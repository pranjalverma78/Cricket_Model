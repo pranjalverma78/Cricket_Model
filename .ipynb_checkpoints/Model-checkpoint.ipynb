{
 "cells": [
  {
   "cell_type": "code",
   "execution_count": 1,
   "id": "8c1eabb2-a21c-4e68-a695-021cf9f837d2",
   "metadata": {},
   "outputs": [],
   "source": [
    "import pandas as pd\n",
    "from sklearn.preprocessing import LabelEncoder\n",
    "# !pip install scikit-learn\n",
    "# !pip install xgboost\n"
   ]
  },
  {
   "cell_type": "markdown",
   "id": "a2ac28cb-0453-44a1-b02b-524dbd83e61f",
   "metadata": {},
   "source": [
    "Preprocessing the train dataset"
   ]
  },
  {
   "cell_type": "code",
   "execution_count": 2,
   "id": "df63250d-f8d8-428e-a059-5bd8c36f1930",
   "metadata": {},
   "outputs": [],
   "source": [
    "train_data = pd.read_csv('Cricket/663e2b6d54457_train_data_with_samplefeatures.csv')\n",
    "new_train_data = pd.read_csv('Cricket/new_train_data.csv')\n",
    "match_df = pd.read_csv('Cricket/664389efa0868_match_level_scorecard.csv')\n",
    "new_match_data = pd.read_csv('Cricket/updated_match_level_dataset.csv')"
   ]
  },
  {
   "cell_type": "code",
   "execution_count": 3,
   "id": "84f81004-6ec3-4f11-8405-ac723da28b72",
   "metadata": {},
   "outputs": [
    {
     "name": "stdout",
     "output_type": "stream",
     "text": [
      "   match id  team1  team1_id  \\\n",
      "0   8887675  Be Ht     33921   \n",
      "1   8887689  Ph Ss     33935   \n",
      "\n",
      "                                    team1_roster_ids  team2  team2_id  \\\n",
      "0  2286472.0:3114803.0:3651472.0:5786766.0:762026...  Ht Hs     33928   \n",
      "1  3507090.0:3535783.0:1626526.0:1798705.0:350188...  Me Ss     33949   \n",
      "\n",
      "                                    team2_roster_ids winner  winner_id  \\\n",
      "0  1611364.0:4223883.0:2161599.0:6381962.0:234037...  Be Ht      33921   \n",
      "1  4003390.0:7960994.0:2275195.0:4393374.0:390107...  Ph Ss      33935   \n",
      "\n",
      "  toss winner  ...    match_dt         lighting series_name   season  \\\n",
      "0       Ht Hs  ...  2022-01-01  day/night match    Bg Bh Le  2021/22   \n",
      "1       Ph Ss  ...  2022-01-02  day/night match    Bg Bh Le  2021/22   \n",
      "\n",
      "  ground_id team_count_50runs_last15 team_winp_last5  \\\n",
      "0      6348                 0.583333        0.672131   \n",
      "1      2932                 1.222222        1.327869   \n",
      "\n",
      "   team1only_avg_runs_last15  team1_winp_team2_last15  ground_avg_runs_last15  \n",
      "0                 166.933333                      0.0              162.333333  \n",
      "1                 178.733333                    100.0                     NaN  \n",
      "\n",
      "[2 rows x 23 columns]\n"
     ]
    }
   ],
   "source": [
    "print(train_data.head(2))\n"
   ]
  },
  {
   "cell_type": "code",
   "execution_count": 4,
   "id": "855180b3-102b-4625-80c3-fe1b80c0a959",
   "metadata": {},
   "outputs": [
    {
     "name": "stdout",
     "output_type": "stream",
     "text": [
      "   match id  team1_id  team2_id  winner_id toss decision     venue       city  \\\n",
      "0   8887675     33921     33928      33921         field  Be Ol Ht     Hobart   \n",
      "1   8887689     33935     33949      33935           bat  Jn Ol Me  Melbourne   \n",
      "\n",
      "     match_dt         lighting series_name   season  ground_id  \\\n",
      "0  2022-01-01  day/night match    Bg Bh Le  2021/22       6348   \n",
      "1  2022-01-02  day/night match    Bg Bh Le  2021/22       2932   \n",
      "\n",
      "   team_count_50runs_last15  team_winp_last5  team1only_avg_runs_last15  \\\n",
      "0                  0.583333         0.672131                 166.933333   \n",
      "1                  1.222222         1.327869                 178.733333   \n",
      "\n",
      "   team1_winp_team2_last15  ground_avg_runs_last15  toss_winner_team_id  \n",
      "0                      0.0              162.333333                33928  \n",
      "1                    100.0                0.000000                33935  \n"
     ]
    }
   ],
   "source": [
    "print(new_train_data.head(2))\n",
    "# new_train_data.to_csv('Cricket/new_train_data.csv', index=False)"
   ]
  },
  {
   "cell_type": "code",
   "execution_count": 56,
   "id": "8073a6aa-623d-4810-b156-9d9e8f59e162",
   "metadata": {},
   "outputs": [],
   "source": [
    "# new_train_data = new_train_data.drop(columns=['winner_id','match_dt','match id'])"
   ]
  },
  {
   "cell_type": "code",
   "execution_count": 5,
   "id": "e14e2854-e039-4e56-837c-b742fdd9463e",
   "metadata": {},
   "outputs": [],
   "source": [
    "# new_train_data = new_train_data.drop(columns=['team1_cumulative_economy', 'team2_cumulative_economy','team1_avg_strike_rate','team2_avg_strike_rate'])"
   ]
  },
  {
   "cell_type": "code",
   "execution_count": 5,
   "id": "b24eb76d-f220-4e35-9165-9141ffcdf511",
   "metadata": {},
   "outputs": [],
   "source": [
    "#sorting on train data based on its date\n",
    "# train_data['match_dt'] = pd.to_datetime(train_data['match_dt'])\n",
    "# train_data = train_data.sort_values(by='match_dt')\n",
    "\n",
    "#converting categorial columns to number\n",
    "df = df = pd.DataFrame()\n",
    "# columns_to_keep = ['match id','team1_id','team2_id','winner_id','toss decision', 'venue', 'city','match_dt', 'lighting', 'series_name', 'season','ground_id','team_count_50runs_last15','team_winp_last5','team1only_avg_runs_last15','team1_winp_team2_last15','ground_avg_runs_last15']\n",
    "# for col in columns_to_keep:\n",
    "#     df[col] = train_data[col]\n",
    "# # train_data.to_csv('Cricket/663e2b6d54457_train_data_with_samplefeatures.csv', index=False)\n",
    "\n",
    "# team_mapping = dict(zip(train_data['team1'],train_data['team1_id']))\n",
    "# df['toss_winner_id'] = train_data['toss winner'].map(team_mapping)\n",
    "\n",
    "# # # new_train_data = pd.get_dummies(train_data,columns=categorical_columns)\n",
    "\n",
    "# df.to_csv('Cricket/new_train_data.csv', index=False)\n",
    "# new_train_data['toss_winner_team_id'] = new_train_data.apply(lambda row: row['team2_id'] if row['toss_winner_id'] == 1 else row['team1_id'], axis=1)\n",
    "# new_train_data = new_train_data.drop(columns=['toss_winner_id'])\n",
    "# new_train_data.to_csv('Cricket/new_train_data.csv', index=False)"
   ]
  },
  {
   "cell_type": "code",
   "execution_count": 47,
   "id": "5706fe42-7a29-4917-8b65-e8bfe5730cea",
   "metadata": {},
   "outputs": [],
   "source": [
    "# #Converting team ids into numbers\n",
    "# all_teams = pd.concat([new_train_data['team1_id'], new_train_data['team2_id']])\n",
    "# unique_teams = sorted(all_teams.unique())\n",
    "\n",
    "# team_id_to_number = {team_id:idx for idx,team_id in enumerate(unique_teams)}\n",
    "# new_train_data['toss_winner_id'] = (new_train_data['toss_winner_id'].astype(int)==new_train_data['team2_id']).astype(int)\n",
    "# new_train_data['team1_id'] = new_train_data['team1_id'].map(team_id_to_number)\n",
    "# new_train_data['team2_id'] = new_train_data['team2_id'].map(team_id_to_number)\n",
    "# new_train_data['winner_id'] = new_train_data['winner_id'].map(team_id_to_number)"
   ]
  },
  {
   "cell_type": "code",
   "execution_count": 48,
   "id": "1742fae3-2f69-46f3-b2eb-5dd5b8c59ef3",
   "metadata": {},
   "outputs": [],
   "source": [
    "# unique_ground = sorted(new_train_data['ground_id'].unique())\n",
    "# ground_id_to_number = {ground_id:idx for idx,ground_id in enumerate(unique_ground)}\n",
    "# new_train_data['ground_id'] = new_train_data['ground_id'].map(ground_id_to_number).astype(int)"
   ]
  },
  {
   "cell_type": "code",
   "execution_count": 7,
   "id": "bb681e70-bda2-4721-9413-70332c298ecd",
   "metadata": {},
   "outputs": [],
   "source": [
    "# from sklearn.preprocessing import LabelEncoder\n",
    "# # categorical_columns = ['toss decision', 'venue', 'city', 'lighting', 'series_name', 'season']\n",
    "# categorical_columns = ['']\n",
    "\n",
    "# label_encoders = {}\n",
    "\n",
    "# for col in categorical_columns:\n",
    "#     if new_train_data[col].dtype == 'object':\n",
    "#         label_encoders[col] = LabelEncoder()\n",
    "#         new_train_data[col] = label_encoders[col].fit_transform(new_train_data[col])        \n",
    "\n",
    "# new_train_data.to_csv('Cricket/new_train_data.csv', index=False)"
   ]
  },
  {
   "cell_type": "code",
   "execution_count": 8,
   "id": "b569e2dc-3bf2-4fb0-85da-0651d329c850",
   "metadata": {},
   "outputs": [],
   "source": [
    "# new_train_data = new_train_data.fillna(0)\n",
    "# new_train_data.to_csv('Cricket/new_train_data.csv', index=False)"
   ]
  },
  {
   "cell_type": "markdown",
   "id": "ac41ca3a-bf44-4dc7-9645-6f54d408eddf",
   "metadata": {},
   "source": [
    "Preparing match level dataset"
   ]
  },
  {
   "cell_type": "code",
   "execution_count": 97,
   "id": "85b64f38-062e-47ef-9d72-3773f4b0afc1",
   "metadata": {},
   "outputs": [],
   "source": [
    "# #filling up empty city values in match dataset\n",
    "\n",
    "# for index, row in match_data.iterrows():\n",
    "#     # Check if city column is empty\n",
    "#     if pd.isnull(row['city']):\n",
    "#         match_dt = row['match_dt']\n",
    "#         match_id = row['match id']\n",
    "        \n",
    "#         # Filter train data to find matching row\n",
    "#         match_row = train_data[(train_data['match_dt'] == match_dt) & (train_data['match id'] == match_id)]\n",
    "        \n",
    "#         # Check if a matching row is found\n",
    "#         if not match_row.empty:\n",
    "#             city_value = match_row.iloc[0]['city']  # Assuming 'city' is the column name in train_data\n",
    "#             match_data.at[index, 'city'] = city_value"
   ]
  },
  {
   "cell_type": "code",
   "execution_count": 98,
   "id": "2c16e44b-b228-4932-aaf2-da90047dec0e",
   "metadata": {},
   "outputs": [],
   "source": [
    "# match_data.to_csv('updated_match_level_dataset.csv', index=False)"
   ]
  },
  {
   "cell_type": "code",
   "execution_count": 36,
   "id": "e91c99dc-3f08-4018-acac-0f2f2da01ac2",
   "metadata": {},
   "outputs": [],
   "source": [
    "#encoding dataset\n",
    "\n",
    "# from sklearn.preprocessing import LabelEncoder\n",
    "# categorical_columns = ['toss decision', 'venue', 'city', 'lighting', 'series_name', 'season']\n",
    "# # categorical_columns = ['']\n",
    "\n",
    "# label_encoders = {}\n",
    "\n",
    "# for col in categorical_columns:\n",
    "#     if train_data[col].dtype == 'object':\n",
    "#         label_encoders[col] = LabelEncoder()\n",
    "#         label_encoders[col].fit(train_data[col])\n",
    "#         # Create a mask for non-null values\n",
    "#         non_null_mask = new_match_data[col].notnull()\n",
    "\n",
    "#         # Apply the transformation only to non-null values\n",
    "#         new_match_data.loc[non_null_mask, col] = label_encoders[col].transform(new_match_data.loc[non_null_mask, col])\n",
    "        \n",
    "\n",
    "# new_match_data.to_csv('updated_match_level_dataset.csv', index=False)"
   ]
  },
  {
   "cell_type": "code",
   "execution_count": 6,
   "id": "8af3ae6a-1c4b-4511-be15-52baa7691b6a",
   "metadata": {},
   "outputs": [],
   "source": [
    "match_df['match_dt'] = pd.to_datetime(match_df['match_dt'])\n",
    "def cumulative_match_stats1(team_id,row,match_dt,match_df):\n",
    "    # print(type(player_ids))\n",
    "    # print(player_ids)\n",
    "    # team_id = row['team1_id']\n",
    "\n",
    "    # Filter matches matches which this team has won in past\n",
    "    filtered_matches = match_df[\n",
    "        ((match_df['team1_id'] == team_id) | (match_df['team2_id'] == team_id)) &\n",
    "        (match_df['match_dt'] < match_dt)\n",
    "    ]\n",
    "    \n",
    "    # Count matches won by the team\n",
    "    wins_by_team = filtered_matches[filtered_matches['winner_id'] == team_id].shape[0]\n",
    "    \n",
    "    # Filter matches\n",
    "    filtered_matches = match_df[\n",
    "        ((match_df['team1_id'] == team_id) | (match_df['team2_id'] == team_id)) &\n",
    "        (match_df['match_dt'] < match_dt) &\n",
    "        (match_df['ground_id'] == row['ground_id'])\n",
    "    ]\n",
    "    \n",
    "    # Count matches won by the team\n",
    "    wins_by_ground = filtered_matches[filtered_matches['winner_id'] == team_id].shape[0]\n",
    "    \n",
    "    # Filter matches\n",
    "    filtered_matches = match_df[\n",
    "        ((match_df['team1_id'] == team_id) | (match_df['team2_id'] == team_id)) &\n",
    "        (match_df['match_dt'] < match_dt) &\n",
    "        (match_df['city'] == row['city'])\n",
    "    ]\n",
    "    \n",
    "    # Count matches won by the team\n",
    "    wins_by_city = filtered_matches[filtered_matches['winner_id'] == team_id].shape[0]\n",
    "\n",
    "    # Filter matches\n",
    "    filtered_matches = match_df[\n",
    "        ((match_df['team1_id'] == team_id) | (match_df['team2_id'] == team_id)) &\n",
    "        (match_df['match_dt'] < match_dt) &\n",
    "        (match_df['venue'] == row['venue'])\n",
    "    ]\n",
    "    \n",
    "    # Count matches won by the team\n",
    "    wins_by_venue = filtered_matches[filtered_matches['winner_id'] == team_id].shape[0]\n",
    "\n",
    "    # Filter matches\n",
    "    filtered_matches = match_df[\n",
    "        ((match_df['team1_id'] == team_id) | (match_df['team2_id'] == team_id)) &\n",
    "        (match_df['match_dt'] < match_dt) &\n",
    "        (match_df['toss decision'] == row['toss decision'])\n",
    "    ]\n",
    "    \n",
    "    # Count matches won by the team\n",
    "    wins_by_toss_decision = filtered_matches[filtered_matches['winner_id'] == team_id].shape[0]\n",
    "\n",
    "    # Filter matches\n",
    "    filtered_matches = match_df[\n",
    "        ((match_df['team1_id'] == team_id) | (match_df['team2_id'] == team_id)) &\n",
    "        (match_df['match_dt'] < match_dt) &\n",
    "        (match_df['lighting'] == row['lighting'])\n",
    "    ]\n",
    "    \n",
    "    # Count matches won by the team\n",
    "    wins_by_lighting = filtered_matches[filtered_matches['winner_id'] == team_id].shape[0]\n",
    "\n",
    "    # Filter matches\n",
    "    filtered_matches = match_df[\n",
    "        ((match_df['team1_id'] == team_id) | (match_df['team2_id'] == team_id)) &\n",
    "        (match_df['match_dt'] < match_dt) &\n",
    "        (match_df['series_name'] == row['series_name'])\n",
    "    ]\n",
    "    \n",
    "    # Count matches won by the team\n",
    "    wins_by_series = filtered_matches[filtered_matches['winner_id'] == team_id].shape[0]\n",
    "\n",
    "    # Filter matches\n",
    "    filtered_matches = match_df[\n",
    "        ((match_df['team1_id'] == team_id) | (match_df['team2_id'] == team_id)) &\n",
    "        (match_df['match_dt'] < match_dt) &\n",
    "        (match_df['season'] == row['season'])\n",
    "    ]\n",
    "    \n",
    "    # Count matches won by the team\n",
    "    wins_by_season = filtered_matches[filtered_matches['winner_id'] == team_id].shape[0]\n",
    "    \n",
    "    \n",
    "    return {\n",
    "        'wins_by_team':wins_by_team,\n",
    "        'win_on_ground':wins_by_ground,\n",
    "        'win_on_city':wins_by_city,\n",
    "        'win_on_venue':wins_by_venue,\n",
    "        'wins_by_toss_decision':wins_by_toss_decision,\n",
    "        'wins_by_lighting':wins_by_lighting,\n",
    "        'wins_by_series':wins_by_series,\n",
    "        'wins_by_season':wins_by_season\n",
    "    }"
   ]
  },
  {
   "cell_type": "code",
   "execution_count": 7,
   "id": "8c138aea-f0ac-4da7-8f83-18a6464ba56a",
   "metadata": {},
   "outputs": [],
   "source": [
    "match_stats1  = train_data.apply(lambda row: cumulative_match_stats1(row['team1_id'],row, row['match_dt'], match_df), axis=1)\n",
    "match_stats2  = train_data.apply(lambda row: cumulative_match_stats1(row['team2_id'],row, row['match_dt'], match_df), axis=1)"
   ]
  },
  {
   "cell_type": "code",
   "execution_count": 8,
   "id": "c8803d3b-3f82-4d02-99a3-fa1515c0430a",
   "metadata": {},
   "outputs": [],
   "source": [
    "df_match_stats1 = pd.json_normalize(match_stats1)\n",
    "df_match_stats2 = pd.json_normalize(match_stats2)"
   ]
  },
  {
   "cell_type": "code",
   "execution_count": 9,
   "id": "8a13f1bd-24d1-4caa-93b4-16a095c49ebc",
   "metadata": {},
   "outputs": [
    {
     "name": "stdout",
     "output_type": "stream",
     "text": [
      "   wins_by_team  win_on_ground  win_on_city  win_on_venue  \\\n",
      "0            10              0            0             0   \n",
      "1            14              0            5             0   \n",
      "2             6              3            3             3   \n",
      "\n",
      "   wins_by_toss_decision  wins_by_lighting  wins_by_series  wins_by_season  \n",
      "0                      5                 1              10               2  \n",
      "1                      8                 5              14               6  \n",
      "2                      1                 5               6               3  \n"
     ]
    }
   ],
   "source": [
    "print(df_match_stats1.head(3))"
   ]
  },
  {
   "cell_type": "code",
   "execution_count": 10,
   "id": "c9c1dd6b-200c-482b-99f4-56c83fc66b72",
   "metadata": {},
   "outputs": [],
   "source": [
    "new_train_data['team1_wins_by_team'] = df_match_stats1['wins_by_team']\n",
    "new_train_data['team2_wins_by_team'] = df_match_stats2['wins_by_team'] #0.5157894736842106\n",
    "new_train_data['team1_win_on_ground'] = df_match_stats1['win_on_ground']\n",
    "new_train_data['team2_win_on_ground'] = df_match_stats2['win_on_ground'] #0.5368421052631579 \n",
    "new_train_data['team1_win_on_city'] = df_match_stats1['win_on_city']\n",
    "new_train_data['team2_win_on_city'] = df_match_stats2['win_on_city'] #0.5368421052631579\n",
    "new_train_data['team1_win_on_venue'] = df_match_stats1['win_on_venue']\n",
    "new_train_data['team2_win_on_venue'] = df_match_stats2['win_on_venue'] #0.5368421052631579\n",
    "new_train_data['team1_wins_by_toss_decision'] = df_match_stats1['wins_by_toss_decision']\n",
    "new_train_data['team2_wins_by_toss_decision'] = df_match_stats2['wins_by_toss_decision'] #0.5368421052631579\n",
    "new_train_data['team1_wins_by_lighting'] = df_match_stats1['wins_by_lighting']\n",
    "new_train_data['team2_wins_by_lighting'] = df_match_stats2['wins_by_lighting'] #0.5421052631578948\n",
    "new_train_data['team1_wins_by_series'] = df_match_stats1['wins_by_series']\n",
    "new_train_data['team2_wins_by_series'] = df_match_stats2['wins_by_series'] #0.5421052631578948\n",
    "new_train_data['team1_wins_by_season'] = df_match_stats1['wins_by_season'] #0.5421052631578948\n",
    "new_train_data['team2_wins_by_season'] = df_match_stats2['wins_by_season']"
   ]
  },
  {
   "cell_type": "code",
   "execution_count": 11,
   "id": "942d524a-620e-47c1-9e3c-be614dc71cb7",
   "metadata": {},
   "outputs": [
    {
     "name": "stdout",
     "output_type": "stream",
     "text": [
      "match id                    0\n",
      "team1                       0\n",
      "team2                       0\n",
      "winner                      0\n",
      "by                          0\n",
      "win amount                  0\n",
      "toss winner                 0\n",
      "toss decision               0\n",
      "venue                       0\n",
      "city                      178\n",
      "match_dt                    0\n",
      "lighting                    0\n",
      "series_name                 0\n",
      "season                      0\n",
      "ground_id                   0\n",
      "umpire1                   181\n",
      "umpire2                   181\n",
      "inning1_runs                0\n",
      "inning1_wickets             0\n",
      "inning1_balls               0\n",
      "inning2_runs                0\n",
      "inning2_wickets             0\n",
      "inning2_balls               0\n",
      "team1_id                    0\n",
      "team1_roster_ids            0\n",
      "team2_id                    0\n",
      "team2_roster_ids            0\n",
      "series_type                 0\n",
      "winner_id                   0\n",
      "player_of_the_match_id    514\n",
      "dtype: int64\n"
     ]
    }
   ],
   "source": [
    "print(match_df.isnull().sum())"
   ]
  },
  {
   "cell_type": "code",
   "execution_count": 12,
   "id": "afe06aa5-1b41-4e12-9797-ce13b8d33e8f",
   "metadata": {},
   "outputs": [
    {
     "name": "stdout",
     "output_type": "stream",
     "text": [
      "   match id  team1_id  team2_id  winner_id toss decision     venue       city  \\\n",
      "0   8887675     33921     33928      33921         field  Be Ol Ht     Hobart   \n",
      "1   8887689     33935     33949      33935           bat  Jn Ol Me  Melbourne   \n",
      "2   8887703     33949     33942      33942           bat  Me Ct Gd  Melbourne   \n",
      "\n",
      "     match_dt         lighting series_name  ... team1_win_on_venue  \\\n",
      "0  2022-01-01  day/night match    Bg Bh Le  ...                  0   \n",
      "1  2022-01-02  day/night match    Bg Bh Le  ...                  0   \n",
      "2  2022-01-03      night match    Bg Bh Le  ...                  3   \n",
      "\n",
      "   team2_win_on_venue  team1_wins_by_toss_decision  \\\n",
      "0                   2                            5   \n",
      "1                   0                            8   \n",
      "2                   1                            1   \n",
      "\n",
      "   team2_wins_by_toss_decision  team1_wins_by_lighting  \\\n",
      "0                            4                       1   \n",
      "1                            1                       5   \n",
      "2                            3                       5   \n",
      "\n",
      "   team2_wins_by_lighting  team1_wins_by_series  team2_wins_by_series  \\\n",
      "0                       2                    10                     7   \n",
      "1                       1                    14                     6   \n",
      "2                       2                     6                     4   \n",
      "\n",
      "   team1_wins_by_season  team2_wins_by_season  \n",
      "0                     2                     4  \n",
      "1                     6                     3  \n",
      "2                     3                     1  \n",
      "\n",
      "[3 rows x 34 columns]\n",
      "Index(['match id', 'team1_id', 'team2_id', 'winner_id', 'toss decision',\n",
      "       'venue', 'city', 'match_dt', 'lighting', 'series_name', 'season',\n",
      "       'ground_id', 'team_count_50runs_last15', 'team_winp_last5',\n",
      "       'team1only_avg_runs_last15', 'team1_winp_team2_last15',\n",
      "       'ground_avg_runs_last15', 'toss_winner_team_id', 'team1_wins_by_team',\n",
      "       'team2_wins_by_team', 'team1_win_on_ground', 'team2_win_on_ground',\n",
      "       'team1_win_on_city', 'team2_win_on_city', 'team1_win_on_venue',\n",
      "       'team2_win_on_venue', 'team1_wins_by_toss_decision',\n",
      "       'team2_wins_by_toss_decision', 'team1_wins_by_lighting',\n",
      "       'team2_wins_by_lighting', 'team1_wins_by_series',\n",
      "       'team2_wins_by_series', 'team1_wins_by_season', 'team2_wins_by_season'],\n",
      "      dtype='object')\n"
     ]
    }
   ],
   "source": [
    "print(new_train_data.head(3))\n",
    "print(new_train_data.columns)"
   ]
  },
  {
   "cell_type": "markdown",
   "id": "02ba998c-3a7f-426e-9ad3-d3ee3d445079",
   "metadata": {},
   "source": [
    "Preparing dataset for bowler level dataset"
   ]
  },
  {
   "cell_type": "code",
   "execution_count": 13,
   "id": "66ad6828-de45-41ee-b86c-c1fa686eef26",
   "metadata": {},
   "outputs": [],
   "source": [
    "bowler_data = pd.read_csv('Cricket/663e2b2c60743_bowler_level_scorecard.csv')"
   ]
  },
  {
   "cell_type": "code",
   "execution_count": 14,
   "id": "7a82ec0b-41f7-48ba-8f01-54fc5e838782",
   "metadata": {},
   "outputs": [
    {
     "name": "stdout",
     "output_type": "stream",
     "text": [
      "   match id bowler  bowler_id                            bowler_details  \\\n",
      "0   8638034  BV Ss  6718396.0  NZ:Right-hand bat:Right-arm medium-fast:   \n",
      "1   8638034  HK Bt  1585464.0   NZ:Left-hand bat:Right-arm medium-fast:   \n",
      "\n",
      "   is_bowler_captain  is_bowler_keeper  inning  runs  wicket_count  \\\n",
      "0                0.0               0.0       1    21             0   \n",
      "1                0.0               0.0       1    34             1   \n",
      "\n",
      "   balls_bowled  economy  maiden  dots  Fours  Sixes  wides  noballs  \\\n",
      "0            12     10.5       0   3.0      1      1      3        1   \n",
      "1            24      8.5       0   7.0      3      1      2        0   \n",
      "\n",
      "     match_dt  \n",
      "0  2021-01-01  \n",
      "1  2021-01-01  \n"
     ]
    }
   ],
   "source": [
    "print(bowler_data.head(2))"
   ]
  },
  {
   "cell_type": "code",
   "execution_count": 15,
   "id": "d69264b7-8779-4cc7-9ca7-525b15d4718f",
   "metadata": {},
   "outputs": [],
   "source": [
    "\n",
    "bowler_data['match_dt'] = pd.to_datetime(bowler_data['match_dt'])"
   ]
  },
  {
   "cell_type": "code",
   "execution_count": 15,
   "id": "db61456e-8dc8-44b6-9e51-a731bd492e12",
   "metadata": {},
   "outputs": [],
   "source": [
    "def cumulative_economy(player_ids,match_dt,bowler_df):\n",
    "    # print(type(player_ids))\n",
    "    # print(player_ids)\n",
    "    player_ids = [float(pid) for pid in player_ids.split(':')]\n",
    "    cumulative_economy = 0\n",
    "    valid_bowler_count = 0;\n",
    "    for player_id in player_ids:\n",
    "        player_matches = bowler_data[(bowler_data['bowler_id']==player_id) & (bowler_data['match_dt'] < match_dt)]\n",
    "        if not player_matches.empty:\n",
    "            last_economy = player_matches.sort_values(by='match_dt', ascending=False).iloc[0]['economy']\n",
    "            cumulative_economy += last_economy\n",
    "            valid_bowler_count += 1\n",
    "    if valid_bowler_count>0:\n",
    "        return cumulative_economy/valid_bowler_count\n",
    "    else:\n",
    "        return 0"
   ]
  },
  {
   "cell_type": "code",
   "execution_count": 16,
   "id": "60065084-c307-4783-a60e-435c9f0cb574",
   "metadata": {},
   "outputs": [],
   "source": [
    "df['team1_cumulative_economy'] = train_data.apply(\n",
    "    lambda row: cumulative_economy(row['team1_roster_ids'], row['match_dt'], bowler_data), axis=1\n",
    ")\n",
    "df['team2_cumulative_economy'] = train_data.apply(\n",
    "    lambda row: cumulative_economy(row['team2_roster_ids'], row['match_dt'], bowler_data), axis=1\n",
    ")\n",
    "# new_train_data['team1_cumulative_economy'] =df['team1_cumulative_economy'] #0.47368421052631576\n",
    "# new_train_data['team2_cumulative_economy'] = df['team2_cumulative_economy']\n",
    "# new_train_data['Cumulative_economy'] = df['team2_cumulative_economy'] - df['team1_cumulative_economy']\n",
    "# new_train_data['Cumulative_economy'] = new_train_data['Cumulative_economy']/(new_train_data['Cumulative_economy'].max())\n",
    "# print(new_train_data.head(3))"
   ]
  },
  {
   "cell_type": "code",
   "execution_count": 16,
   "id": "d55b5a96-ab54-45af-ade9-5b131785b621",
   "metadata": {},
   "outputs": [],
   "source": [
    "bowler_data['match_dt'] = pd.to_datetime(bowler_data['match_dt'])\n",
    "def cumulative_bowler_stats1(player_ids,match_dt,bowler_df):\n",
    "    # print(type(player_ids))\n",
    "    # print(player_ids)\n",
    "    player_ids = [float(pid) for pid in player_ids.split(':')]\n",
    "    filtered_bowlers = bowler_df[(bowler_df['bowler_id'].isin(player_ids)) & (bowler_df['match_dt'] < match_dt)]\n",
    "\n",
    "    ###Getting top 6 players by economy\n",
    "    highest_economies = {}\n",
    "\n",
    "    for player_id in player_ids:\n",
    "        player_data = filtered_bowlers[filtered_bowlers['bowler_id'] == player_id]\n",
    "        player_data_sorted = player_data.sort_values(by='match_dt', ascending=False).head(4)\n",
    "        if not player_data_sorted.empty:\n",
    "            highest_economy = player_data_sorted['economy'].max()\n",
    "            highest_economies[player_id] = highest_economy\n",
    "    \n",
    "    top6_economy_sum = sorted(highest_economies.values(), reverse=True)[:6]\n",
    "    sum_top6_economy_sum = sum(top6_economy_sum)\n",
    "\n",
    "    ###Getting top 6 players by wickets\n",
    "    player_stats = filtered_bowlers.groupby('bowler_id').agg(\n",
    "        total_wickets=('wicket_count', 'sum'),\n",
    "        dismissals=('inning', 'sum')\n",
    "    ).reset_index()\n",
    "\n",
    "    player_stats['wicket_average'] = player_stats['total_wickets'] / player_stats['dismissals']\n",
    "    \n",
    "    # Sort by wicket average in descending order and get the top 6\n",
    "    top6_bowler = player_stats.sort_values(by='wicket_average', ascending=False).head(6)\n",
    "    total_wicket_avg_top6 = top6_bowler['wicket_average'].sum()\n",
    "    \n",
    "\n",
    "    ###Getting top 6 bowler by bowling average\n",
    "    player_stats2 = filtered_bowlers.groupby('bowler_id').agg(\n",
    "        total_wickets=('wicket_count', 'sum'),\n",
    "        total_runs=('runs', 'sum')\n",
    "    ).reset_index()\n",
    "\n",
    "    player_stats2 = player_stats2[player_stats2['total_wickets'] > 0]\n",
    "    \n",
    "    player_stats2['bowling_average'] = player_stats2['total_runs'] / (player_stats2['total_wickets'])\n",
    "    top6_bowling_avg = player_stats2.sort_values(by='bowling_average', ascending=True).head(6)\n",
    "    total_top6_bowling_avg = top6_bowling_avg['bowling_average'].sum()\n",
    "\n",
    "    ###Getting top 6 players by highest maiden overs\n",
    "    player_stats3 = filtered_bowlers.groupby('bowler_id').agg(\n",
    "        total_maidens=('maiden', 'sum')\n",
    "    ).reset_index()\n",
    "\n",
    "    top_6_by_maidens = player_stats3.sort_values(by='total_maidens', ascending=False).head(6)\n",
    "    total_top_6_by_maidens = top_6_by_maidens['total_maidens'].sum()\n",
    "\n",
    "    ###Getting top 6 players by least 4s per per over over\n",
    "\n",
    "    player_stats4 = filtered_bowlers.groupby('bowler_id').agg(\n",
    "        total_fours=('Fours', 'sum'),\n",
    "        total_balls=('balls_bowled', 'sum')\n",
    "    ).reset_index()\n",
    "\n",
    "    player_stats4 = player_stats4[player_stats4['total_balls'] > 0]\n",
    "    \n",
    "    player_stats4['fours'] = 6*(player_stats4['total_fours'] / (player_stats4['total_balls']))\n",
    "    top6_bowling_avg = player_stats4.sort_values(by='fours', ascending=True).head(6)\n",
    "    total_top6_leastfours = top6_bowling_avg['fours'].sum()\n",
    "\n",
    "    ###Getting top 6 players by least Sixes per per over over\n",
    "\n",
    "    player_stats4 = filtered_bowlers.groupby('bowler_id').agg(\n",
    "        total_Sixes=('Sixes', 'sum'),\n",
    "        total_balls=('balls_bowled', 'sum')\n",
    "    ).reset_index()\n",
    "\n",
    "    player_stats4 = player_stats4[player_stats4['total_balls'] > 0]\n",
    "    \n",
    "    player_stats4['Sixes'] = 6*(player_stats4['total_Sixes'] / (player_stats4['total_balls']))\n",
    "    top6_bowling_avg = player_stats4.sort_values(by='Sixes', ascending=True).head(6)\n",
    "    total_top6_leastSixes = top6_bowling_avg['Sixes'].sum()\n",
    "\n",
    "    #Getting number of bowler captain in team\n",
    "\n",
    "    player_stats4 = filtered_bowlers.groupby('bowler_id').agg(\n",
    "        is_bowler_captain=('is_bowler_captain', 'sum'),\n",
    "    ).reset_index()\n",
    "    \n",
    "    total_bowler_captains = player_stats4['is_bowler_captain'].sum()\n",
    "\n",
    "    #Getting top 6 best bowler having highest innings\n",
    "\n",
    "    player_stats3 = filtered_bowlers.groupby('bowler_id').agg(\n",
    "        total_inning=('inning', 'sum')\n",
    "    ).reset_index()\n",
    "\n",
    "    top_6_by_inning = player_stats3.sort_values(by='total_inning', ascending=False).head(6)\n",
    "    total_top_6_by_inning = top_6_by_maidens['total_maidens'].sum()\n",
    "\n",
    "    #Getting top6 by highest % of dot balls \n",
    "\n",
    "    player_stats = filtered_bowlers.groupby('bowler_id').agg(\n",
    "        total_dots=('dots', 'sum'),\n",
    "        balls_bowled=('balls_bowled', 'sum')\n",
    "    ).reset_index()\n",
    "\n",
    "    player_stats['dot_percentage'] = 100*(player_stats['total_dots'] / player_stats['balls_bowled'])\n",
    "    \n",
    "    # Sort by wicket average in descending order and get the top 6\n",
    "    top6_bowler_by_dot = player_stats.sort_values(by='dot_percentage', ascending=False).head(6)\n",
    "    total_dot_avg_top6 = top6_bowler_by_dot['dot_percentage'].sum()\n",
    "\n",
    "\n",
    "    return {\n",
    "        'top6_economy_sum':sum_top6_economy_sum,\n",
    "        'top6_wicket_avg_sum':total_wicket_avg_top6,\n",
    "        'top6_bowling_avg_sum':total_top6_bowling_avg,\n",
    "        'top6_maidens_avg':total_top_6_by_maidens,\n",
    "        'total_top6_leastfours':total_top6_leastfours,\n",
    "        'total_top6_leastSixes':total_top6_leastSixes,\n",
    "        'total_bowler_captains':total_bowler_captains,\n",
    "        'total_top_6_by_inning':total_top_6_by_inning,\n",
    "        'total_dot_avg_top6':total_dot_avg_top6\n",
    "    }\n",
    "    \n",
    "    "
   ]
  },
  {
   "cell_type": "code",
   "execution_count": 17,
   "id": "8ade6ce4-7f23-41bc-af2b-7e7b2f656b2f",
   "metadata": {},
   "outputs": [],
   "source": [
    "bowler_stats1  = train_data.apply(lambda row: cumulative_bowler_stats1(row['team1_roster_ids'], row['match_dt'], bowler_data), axis=1)\n",
    "bowler_stats2  = train_data.apply(lambda row: cumulative_bowler_stats1(row['team2_roster_ids'], row['match_dt'], bowler_data), axis=1)"
   ]
  },
  {
   "cell_type": "code",
   "execution_count": 18,
   "id": "93af4a15-0a53-49c2-8cd0-a3f9190a7f73",
   "metadata": {},
   "outputs": [],
   "source": [
    "df_bowler_stats1 = pd.json_normalize(bowler_stats1)\n",
    "df_bowler_stats2 = pd.json_normalize(bowler_stats2)"
   ]
  },
  {
   "cell_type": "code",
   "execution_count": 19,
   "id": "16509ce7-47de-4340-9a1a-237a99844a6c",
   "metadata": {},
   "outputs": [
    {
     "name": "stdout",
     "output_type": "stream",
     "text": [
      "{'top6_economy_sum': 73.92, 'top6_wicket_avg_sum': 4.547709235209235, 'top6_bowling_avg_sum': 155.28094468094469, 'top6_maidens_avg': 2, 'total_top6_leastfours': 3.9319402620556225, 'total_top6_leastSixes': 1.966009653455314, 'total_bowler_captains': 0.0, 'total_top_6_by_inning': 2, 'total_dot_avg_top6': 226.1329669113939}\n",
      "   match id  team1_id  team2_id  winner_id toss decision     venue       city  \\\n",
      "0   8887675     33921     33928      33921         field  Be Ol Ht     Hobart   \n",
      "1   8887689     33935     33949      33935           bat  Jn Ol Me  Melbourne   \n",
      "2   8887703     33949     33942      33942           bat  Me Ct Gd  Melbourne   \n",
      "\n",
      "     match_dt         lighting series_name  ... team1_win_on_venue  \\\n",
      "0  2022-01-01  day/night match    Bg Bh Le  ...                  0   \n",
      "1  2022-01-02  day/night match    Bg Bh Le  ...                  0   \n",
      "2  2022-01-03      night match    Bg Bh Le  ...                  3   \n",
      "\n",
      "   team2_win_on_venue  team1_wins_by_toss_decision  \\\n",
      "0                   2                            5   \n",
      "1                   0                            8   \n",
      "2                   1                            1   \n",
      "\n",
      "   team2_wins_by_toss_decision  team1_wins_by_lighting  \\\n",
      "0                            4                       1   \n",
      "1                            1                       5   \n",
      "2                            3                       5   \n",
      "\n",
      "   team2_wins_by_lighting  team1_wins_by_series  team2_wins_by_series  \\\n",
      "0                       2                    10                     7   \n",
      "1                       1                    14                     6   \n",
      "2                       2                     6                     4   \n",
      "\n",
      "   team1_wins_by_season  team2_wins_by_season  \n",
      "0                     2                     4  \n",
      "1                     6                     3  \n",
      "2                     3                     1  \n",
      "\n",
      "[3 rows x 34 columns]\n"
     ]
    }
   ],
   "source": [
    "print(bowler_stats1[0])\n",
    "print(new_train_data.head(3))"
   ]
  },
  {
   "cell_type": "code",
   "execution_count": 20,
   "id": "28bda935-80db-4501-b6dd-a06302a33e65",
   "metadata": {},
   "outputs": [],
   "source": [
    "new_train_data['team1_top6_economy_sum'] = df_bowler_stats1['top6_economy_sum'] #0.4842105263157895\n",
    "new_train_data['team2_top6_economy_sum'] = df_bowler_stats2['top6_economy_sum']\n",
    "new_train_data['team1_top6_wicket_avg_sum'] = df_bowler_stats1['top6_wicket_avg_sum'] #0.5473684210526316\n",
    "new_train_data['team2_top6_wicket_avg_sum'] = df_bowler_stats2['top6_wicket_avg_sum']\n",
    "new_train_data['team1_top6_bowling_avg'] = df_bowler_stats1['top6_bowling_avg_sum'] #0.5473684210526316\n",
    "new_train_data['team2_top6_bowling_avg'] = df_bowler_stats2['top6_bowling_avg_sum']\n",
    "new_train_data['team1_top6_maidens'] = df_bowler_stats1['top6_maidens_avg'] #0.5210526315789473\n",
    "new_train_data['team2_top6_maidens'] = df_bowler_stats2['top6_maidens_avg']\n",
    "new_train_data['team1_total_top6_leastfours'] = df_bowler_stats1['total_top6_leastfours'] #0.4789473684210526\n",
    "new_train_data['team2_total_top6_leastfours'] = df_bowler_stats2['total_top6_leastfours']\n",
    "new_train_data['team1_total_top6_leastSixes'] = df_bowler_stats1['total_top6_leastSixes'] #0.5842105263157895\n",
    "new_train_data['team2_total_top6_leastSixes'] = df_bowler_stats2['total_top6_leastSixes']\n",
    "new_train_data['team1_total_bowler_captains'] = df_bowler_stats1['total_bowler_captains'] #0.5526315789473685\n",
    "new_train_data['team2_total_bowler_captains'] = df_bowler_stats2['total_bowler_captains']\n",
    "new_train_data['team1_total_top_6_by_inning'] = df_bowler_stats1['total_top_6_by_inning'] #0.5210526315789473\n",
    "new_train_data['team2_total_top_6_by_inning'] = df_bowler_stats2['total_top_6_by_inning']\n",
    "new_train_data['team1_total_dot_avg_top6'] = df_bowler_stats1['total_dot_avg_top6'] #0.5421052631578948\n",
    "new_train_data['team2_total_dot_avg_top6'] = df_bowler_stats2['total_dot_avg_top6']\n",
    "\n",
    "\n",
    "# new_train_data['top6_economy_sum'] = df_bowler_stats2['top6_economy_sum']-df_bowler_stats1['top6_economy_sum']\n",
    "# new_train_data['top6_wicket_avg_sum'] = df_bowler_stats2['top6_wicket_avg_sum']-df_bowler_stats1['top6_wicket_avg_sum']\n",
    "# new_train_data['top6_bowling_avg'] = df_bowler_stats2['top6_bowling_avg_sum']-df_bowler_stats1['top6_bowling_avg_sum']\n",
    "# new_train_data['top6_maidens'] = df_bowler_stats2['top6_maidens_avg']-df_bowler_stats1['top6_maidens_avg']\n",
    "\n",
    "# new_train_data['top6_economy_sum'] = new_train_data['top6_economy_sum']/(new_train_data['top6_economy_sum'].max())\n",
    "# new_train_data['top6_wicket_avg_sum'] = new_train_data['top6_wicket_avg_sum']/(new_train_data['top6_wicket_avg_sum'].max())\n",
    "# new_train_data['top6_bowling_avg'] = new_train_data['top6_bowling_avg']/(new_train_data['top6_bowling_avg'].max())\n",
    "# new_train_data['top6_maidens'] = new_train_data['top6_maidens']/(new_train_data['top6_maidens'].max())"
   ]
  },
  {
   "cell_type": "code",
   "execution_count": 25,
   "id": "39086793-76f1-4321-9736-d3eb0a8c83e4",
   "metadata": {},
   "outputs": [
    {
     "name": "stdout",
     "output_type": "stream",
     "text": [
      "match id             0\n",
      "bowler               0\n",
      "bowler_id            0\n",
      "bowler_details       0\n",
      "is_bowler_captain    0\n",
      "is_bowler_keeper     0\n",
      "inning               0\n",
      "runs                 0\n",
      "wicket_count         0\n",
      "balls_bowled         0\n",
      "economy              0\n",
      "maiden               0\n",
      "dots                 0\n",
      "Fours                0\n",
      "Sixes                0\n",
      "wides                0\n",
      "noballs              0\n",
      "match_dt             0\n",
      "dtype: int64\n"
     ]
    }
   ],
   "source": [
    "print(bowler_data.isnull().sum())"
   ]
  },
  {
   "cell_type": "code",
   "execution_count": 21,
   "id": "4a47b500-bd54-43ac-9107-9fb79e4cd29c",
   "metadata": {},
   "outputs": [],
   "source": [
    "bowler_data['match_dt'] = pd.to_datetime(bowler_data['match_dt'])\n",
    "# bowler_runs,bowler_wickets,inv_Bowling Discipline Factor\n",
    "\n",
    "def cumulative_bowler_stats(player_ids,match_dt,bowler_df):\n",
    "    # print(type(player_ids))\n",
    "    # print(player_ids)\n",
    "    player_ids = [float(pid) for pid in player_ids.split(':')]\n",
    "    overall_bowler_runsavg=0\n",
    "    overall_bowl_wicketsavg=0\n",
    "    valid_bowler_count = 0\n",
    "    overall_invstike_rate=0\n",
    "    overall_displine_factor=0\n",
    "    for player_id in player_ids:\n",
    "        player_matches = bowler_data[(bowler_data['bowler_id']==player_id) & (bowler_data['match_dt'] < match_dt)]\n",
    "        if not player_matches.empty:\n",
    "            total_runs = player_matches['runs'].sum()/len(player_matches[player_matches['balls_bowled'] > 0])\n",
    "            total_wickets = player_matches['wicket_count'].sum()/len(player_matches[player_matches['balls_bowled'] > 0])\n",
    "            total_balls = player_matches['balls_bowled'].sum()/len(player_matches[player_matches['balls_bowled'] > 0])\n",
    "            total_displine = (0.40*player_matches['maiden'].sum()+0.60*(player_matches['wides'].sum()+player_matches['noballs'].sum()))/len(player_matches[player_matches['balls_bowled'] > 0])\n",
    "            valid_bowler_count += 1\n",
    "            if total_balls > 0:\n",
    "                overall_bowler_runsavg+=total_runs\n",
    "                overall_bowl_wicketsavg+=total_wickets\n",
    "                overall_invstike_rate+=(total_wickets/total_balls)*100\n",
    "                \n",
    "                \n",
    "    if valid_bowler_count>0:\n",
    "        return {\n",
    "            'bowler_runs':overall_bowler_runsavg/valid_bowler_count,\n",
    "            'bowler_wickets':overall_bowl_wicketsavg/valid_bowler_count,\n",
    "            'inv_Bowling':overall_invstike_rate/valid_bowler_count,\n",
    "            'Discipline Factor':total_displine/valid_bowler_count\n",
    "        }\n",
    "\n",
    "    return 0\n",
    "            "
   ]
  },
  {
   "cell_type": "code",
   "execution_count": 22,
   "id": "1baf1a28-961c-424b-badd-47769b50bad4",
   "metadata": {},
   "outputs": [],
   "source": [
    "bowler_stats1  = train_data.apply(lambda row: cumulative_bowler_stats(row['team1_roster_ids'], row['match_dt'], bowler_data), axis=1)\n",
    "bowler_stats2  = train_data.apply(lambda row: cumulative_bowler_stats(row['team2_roster_ids'], row['match_dt'], bowler_data), axis=1)"
   ]
  },
  {
   "cell_type": "code",
   "execution_count": 23,
   "id": "95dff91a-71a6-4d86-b717-5beb69d6a85f",
   "metadata": {},
   "outputs": [],
   "source": [
    "df_bowler_stats1 = pd.json_normalize(bowler_stats1)\n",
    "df_bowler_stats2 = pd.json_normalize(bowler_stats2)"
   ]
  },
  {
   "cell_type": "code",
   "execution_count": 22,
   "id": "fe126e6d-4bf7-4157-ad6b-6fb7a1ff2b54",
   "metadata": {},
   "outputs": [
    {
     "name": "stdout",
     "output_type": "stream",
     "text": [
      "{'bowler_runs': 25.49578373015873, 'bowler_wickets': 1.0478670634920635, 'inv_Bowling': 5.527075727452858, 'Discipline Factor': 0.053125}\n"
     ]
    }
   ],
   "source": [
    "# print(bowler_stats1[0])"
   ]
  },
  {
   "cell_type": "code",
   "execution_count": 24,
   "id": "4530b762-fdd0-482d-956c-30b242248e3d",
   "metadata": {},
   "outputs": [],
   "source": [
    "new_train_data['team1_bowler_runs'] = df_bowler_stats1['bowler_runs'] #0.5578947368421052\n",
    "new_train_data['team2_bowler_runs'] = df_bowler_stats2['bowler_runs'] \n",
    "# new_train_data['team1_bowler_wickets'] = df_bowler_stats1['bowler_wickets'] #0.5\n",
    "# new_train_data['team2_bowler_wickets'] = df_bowler_stats2['bowler_wickets']\n",
    "# new_train_data['team1_inv_Bowling'] = df_bowler_stats1['inv_Bowling'] #0.46842105263157896\n",
    "# new_train_data['team2_inv_Bowling'] = df_bowler_stats2['inv_Bowling']\n",
    "# new_train_data['team1_Discipline Factor'] = df_bowler_stats1['Discipline Factor'] #0.5052631578947369\n",
    "# new_train_data['team2_Discipline Factor'] = df_bowler_stats2['Discipline Factor']\n",
    "# new_train_data['bowler_runs'] = df_bowler_stats2['bowler_runs']-df_bowler_stats1['bowler_runs']\n",
    "# new_train_data['bowler_wickets'] = df_bowler_stats2['bowler_wickets']-df_bowler_stats1['bowler_wickets']\n",
    "# new_train_data['inv_Bowling'] = df_bowler_stats2['inv_Bowling']-df_bowler_stats1['inv_Bowling']\n",
    "# new_train_data['Discipline Factor'] = df_bowler_stats2['Discipline Factor']-df_bowler_stats1['Discipline Factor']\n",
    "\n",
    "# new_train_data['bowler_runs'] = new_train_data['bowler_runs']/(new_train_data['bowler_runs'].max())\n",
    "# new_train_data['bowler_wickets'] = new_train_data['bowler_wickets']/(new_train_data['bowler_wickets'].max())\n",
    "# new_train_data['inv_Bowling'] = new_train_data['inv_Bowling']/(new_train_data['inv_Bowling'].max())\n",
    "# new_train_data['Discipline Factor'] = new_train_data['Discipline Factor']/(new_train_data['Discipline Factor'].max())"
   ]
  },
  {
   "cell_type": "markdown",
   "id": "be8e04ef-a151-4266-aee4-61846be986ac",
   "metadata": {},
   "source": [
    "Checking which features are important \n"
   ]
  },
  {
   "cell_type": "code",
   "execution_count": 80,
   "id": "f8a95e00-348f-4d53-965b-ddfd1b909bb7",
   "metadata": {},
   "outputs": [],
   "source": [
    "# !pip install shap\n",
    "# !pip install matplotlib\n",
    "# !pip install --upgrade matplotlib\n"
   ]
  },
  {
   "cell_type": "code",
   "execution_count": 25,
   "id": "7c89d8d0-1bfe-4d72-90eb-86294b56b343",
   "metadata": {},
   "outputs": [
    {
     "name": "stdout",
     "output_type": "stream",
     "text": [
      "bowler_runs          12\n",
      "bowler_wickets       12\n",
      "inv_Bowling          12\n",
      "Discipline Factor    12\n",
      "dtype: int64\n"
     ]
    }
   ],
   "source": [
    "print(df_bowler_stats1.isnull().sum())"
   ]
  },
  {
   "cell_type": "markdown",
   "id": "2994c26e-763f-4b98-9b9f-626830fb272a",
   "metadata": {},
   "source": [
    "BATSMAN LEVEL DATASET"
   ]
  },
  {
   "cell_type": "code",
   "execution_count": 26,
   "id": "923d7408-0c8d-452c-8fb2-795b3a1e9fd8",
   "metadata": {},
   "outputs": [
    {
     "name": "stdout",
     "output_type": "stream",
     "text": [
      "   match id batsman  batsman_id                           batsman_details  \\\n",
      "0   8638034   KD Ce   7907451.0  NZ:Right-hand bat:Right-arm medium-fast:   \n",
      "1   8638034   TL St   4381761.0                   NZ:Right-hand bat:None:   \n",
      "\n",
      "   is_batsman_captain  is_batsman_keeper  inning  runs  balls_faced  \\\n",
      "0                 0.0                0.0       1     7            5   \n",
      "1                 0.0                1.0       1    46           46   \n",
      "\n",
      "   over_faced_first  ... out_by_bowler out_by_fielder  bowler_id  \\\n",
      "0               1.1  ...         JS Nm          TM Jn  2486896.0   \n",
      "1               1.2  ...          R Ra          MG Bl  6718382.0   \n",
      "\n",
      "                             bowler_details is_bowler_keeper  \\\n",
      "0   NZ:Left-hand bat:Right-arm medium-fast:              0.0   \n",
      "1  NZ:Left-hand bat:Slow left-arm orthodox:              0.0   \n",
      "\n",
      "   is_bowler_captain  strike_rate  Fours  Sixes    match_dt  \n",
      "0                0.0        140.0    1.0    NaN  2021-01-01  \n",
      "1                0.0        100.0    4.0    1.0  2021-01-01  \n",
      "\n",
      "[2 rows x 21 columns]\n"
     ]
    }
   ],
   "source": [
    "batsman_data = pd.read_csv('Cricket/663e2b548c98c_batsman_level_scorecard.csv')\n",
    "print(batsman_data.head(2))"
   ]
  },
  {
   "cell_type": "code",
   "execution_count": 25,
   "id": "28fcd321-8d2a-4234-85b7-6727882844e0",
   "metadata": {},
   "outputs": [],
   "source": [
    "# batsman_data['match_dt'] = pd.to_datetime(batsman_data['match_dt'])\n",
    "# def cumulative_strike_rate(player_ids,match_dt,batsman_df):\n",
    "#     # print(type(player_ids))\n",
    "#     # print(player_ids)\n",
    "#     player_ids = [float(pid) for pid in player_ids.split(':')]\n",
    "#     cumulative_strike_rate = 0\n",
    "#     valid_bat_count = 0;\n",
    "#     for player_id in player_ids:\n",
    "#         player_matches = batsman_data[(batsman_data['batsman_id']==player_id) & (batsman_data['match_dt'] < match_dt)]\n",
    "#         if not player_matches.empty:\n",
    "#             last_strike_rate = player_matches.sort_values(by='match_dt', ascending=False).iloc[0]['strike_rate']\n",
    "#             cumulative_strike_rate += last_strike_rate\n",
    "#             valid_bat_count += 1\n",
    "#     if valid_bat_count>0:\n",
    "#         return cumulative_strike_rate/valid_bat_count\n",
    "#     else:\n",
    "#         return 0"
   ]
  },
  {
   "cell_type": "code",
   "execution_count": 26,
   "id": "2382fc0a-7ec7-4bf1-9464-c9fb986d4c4a",
   "metadata": {},
   "outputs": [
    {
     "name": "stdout",
     "output_type": "stream",
     "text": [
      "   match id  team1_id  team2_id  winner_id  toss decision  venue  city  \\\n",
      "0   8887675     33921     33928      33921              1      8    53   \n",
      "1   8887689     33935     33949      33935              0     50    71   \n",
      "2   8887703     33949     33942      33942              0     62    71   \n",
      "\n",
      "     match_dt  lighting  series_name  ...  Cumulative_economy  \\\n",
      "0  2022-01-01         1           11  ...            0.214011   \n",
      "1  2022-01-02         1           11  ...           -0.118432   \n",
      "2  2022-01-03         2           11  ...            0.109034   \n",
      "\n",
      "   top6_economy_sum  top6_wicket_avg_sum  top6_bowling_avg  top6_maidens  \\\n",
      "0         -0.195066             0.018777          0.053701     -0.142857   \n",
      "1         -0.154544            -0.266644         -0.269844     -0.071429   \n",
      "2          0.055477            -0.146634          0.003030      0.000000   \n",
      "\n",
      "   bowler_runs  bowler_wickets  inv_Bowling  Discipline Factor  \\\n",
      "0    -0.024640       -0.008149    -0.032297          -0.020933   \n",
      "1     0.010308       -0.103863    -0.121123           0.003127   \n",
      "2    -0.168875       -0.020700     0.076557          -0.100000   \n",
      "\n",
      "   avg_strike_rate  \n",
      "0        49.831818  \n",
      "1       -12.045584  \n",
      "2        12.380278  \n",
      "\n",
      "[3 rows x 28 columns]\n"
     ]
    }
   ],
   "source": [
    "# df['team1_avg_strike_rate'] = train_data.apply(\n",
    "#     lambda row: cumulative_strike_rate(row['team1_roster_ids'], row['match_dt'], batsman_data), axis=1\n",
    "# )\n",
    "# df['team2_avg_strike_rate'] = train_data.apply(\n",
    "#     lambda row: cumulative_strike_rate(row['team2_roster_ids'], row['match_dt'], batsman_data), axis=1\n",
    "# )\n",
    "# print(new_train_data.head(3))\n",
    "# new_train_data['avg_strike_rate'] = df['team2_avg_strike_rate']-df['team1_avg_strike_rate']\n",
    "# new_train_data['avg_strike_rate'] = new_train_data['avg_strike_rate']/(new_train_data['avg_strike_rate'].max())\n",
    "# # new_train_data.to_csv('Cricket/new_train_data.csv', index=False)"
   ]
  },
  {
   "cell_type": "code",
   "execution_count": 27,
   "id": "12c8c830-e826-4864-ba49-61fd2274e127",
   "metadata": {},
   "outputs": [],
   "source": [
    "# batsman_data['match_dt'] = pd.to_datetime(batsman_data['match_dt'])\n",
    "\n",
    "# #batting avg, boundary_%, run_rate, total_runs_strength_avg\n",
    "# def cumulative_stats1(player_ids,match_dt,batsman_df):\n",
    "#     # print(type(player_ids))\n",
    "#     # print(player_ids)\n",
    "#     player_ids = [float(pid) for pid in player_ids.split(':')]\n",
    "#     overall_bat_avg=0\n",
    "#     valid_bat_count = 0\n",
    "#     total_batting_avg=0\n",
    "#     t_boundary_percentage=0\n",
    "#     t_run_rate=0\n",
    "#     for player_id in player_ids:\n",
    "#         player_matches = batsman_data[(batsman_data['batsman_id']==player_id) & (batsman_data['match_dt'] < match_dt)]\n",
    "#         if not player_matches.empty:\n",
    "#             total_runs = player_matches['runs'].sum()\n",
    "#             total_balls_faced = player_matches['balls_faced'].sum()\n",
    "#             # print(player_matches['wicket kind'].iloc[:3])\n",
    "#             total_outs = len(player_matches[player_matches['wicket kind'].notna()]) \n",
    "#             valid_bat_count += 1\n",
    "#             if total_balls_faced > 0:\n",
    "#                 batting_avg = total_runs / total_outs if total_outs > 0 else 0\n",
    "#                 boundary_runs = player_matches['Fours'].sum() * 4 + player_matches['Sixes'].sum() * 6\n",
    "#                 total_runs_scored = player_matches['runs'].sum()\n",
    "#                 boundary_percentage = (boundary_runs / total_runs_scored) * 100 if total_runs_scored > 0 else 0\n",
    "#                 total_overs_faced = player_matches['over_faced_first'].sum()\n",
    "#                 run_rate = total_runs / total_overs_faced if total_overs_faced > 0 else 0\n",
    "#                 total_batting_avg+=batting_avg\n",
    "#                 t_boundary_percentage += boundary_percentage\n",
    "#                 t_run_rate+=run_rate\n",
    "        \n",
    "            \n",
    "#     if(valid_bat_count>0):\n",
    "#         return {\n",
    "#             'batting_avg':total_batting_avg/valid_bat_count,\n",
    "#             'boundary_percentage':t_boundary_percentage/valid_bat_count,\n",
    "#             'run_rate':t_run_rate/valid_bat_count\n",
    "#         }\n",
    "\n",
    "#     return 0\n",
    "            "
   ]
  },
  {
   "cell_type": "code",
   "execution_count": 28,
   "id": "0454008a-65ab-4057-8ffc-658b3dbfacd4",
   "metadata": {},
   "outputs": [],
   "source": [
    "stats1  = train_data.apply(lambda row: cumulative_stats1(row['team1_roster_ids'], row['match_dt'], batsman_data), axis=1)\n",
    "stats2  = train_data.apply(lambda row: cumulative_stats1(row['team2_roster_ids'], row['match_dt'], batsman_data), axis=1)"
   ]
  },
  {
   "cell_type": "code",
   "execution_count": 29,
   "id": "9e99af71-29fd-4c15-b589-938b7f2926f7",
   "metadata": {},
   "outputs": [],
   "source": [
    "df_stats1 = pd.json_normalize(stats1)\n",
    "df_stats2 = pd.json_normalize(stats2)\n",
    "# print(df_stats.head(4))"
   ]
  },
  {
   "cell_type": "code",
   "execution_count": 30,
   "id": "a2782a18-331e-4240-a3d9-9bd4fea4dc92",
   "metadata": {},
   "outputs": [],
   "source": [
    "# print(len(stats))\n",
    "# print(len(train_data))\n",
    "\n",
    "# new_train_data['team1_batting_avg'] = df_stats1['batting_avg']\n",
    "# new_train_data['team2_batting_avg'] = df_stats2['batting_avg']\n",
    "# new_train_data['team1_boundary_percentage'] = df_stats1['boundary_percentage']\n",
    "# new_train_data['team2_boundary_percentage'] = df_stats2['boundary_percentage']\n",
    "# new_train_data['team1_run_rate'] = df_stats1['run_rate']\n",
    "# new_train_data['team2_run_rate'] = df_stats2['run_rate']\n",
    "\n",
    "new_train_data['batting_avg'] = df_stats2['batting_avg']-df_stats1['batting_avg']\n",
    "new_train_data['boundary_percentage'] = df_stats2['boundary_percentage']-df_stats1['boundary_percentage']\n",
    "new_train_data['run_rate'] = df_stats2['run_rate']-df_stats1['run_rate']\n",
    "\n",
    "new_train_data['batting_avg'] = new_train_data['batting_avg']/(new_train_data['batting_avg'].max())\n",
    "new_train_data['boundary_percentage'] = new_train_data['boundary_percentage']/(new_train_data['boundary_percentage'].max())\n",
    "new_train_data['run_rate'] = new_train_data['run_rate']/(new_train_data['run_rate'].max())"
   ]
  },
  {
   "cell_type": "code",
   "execution_count": 54,
   "id": "e83c273c-8011-4ad8-b556-40b7c99ee52b",
   "metadata": {},
   "outputs": [],
   "source": [
    "batsman_data['match_dt'] = pd.to_datetime(batsman_data['match_dt'])\n",
    "import numpy as np\n",
    "#batting avg, boundary_%, run_rate, total_runs_strength_avg\n",
    "def cumulative_stats(player_ids,match_dt,batsman_df):\n",
    "    # print(type(player_ids))\n",
    "    # print(player_ids)\n",
    "    player_ids = [float(pid) for pid in player_ids.split(':')]\n",
    "    total_runs_top6=0\n",
    "    filtered_batsmen = batsman_df[(batsman_df['batsman_id'].isin(player_ids)) & (batsman_df['match_dt'] < match_dt)]\n",
    "    # filtered_batsmen = filtered_batsmen.dropna(subset=['strike_rate','Fours','Sixes'])\n",
    "\n",
    "    ###Getting runs of Top 6 batsman in a team\n",
    "    player_runs = filtered_batsmen.groupby('batsman_id')['runs'].sum()\n",
    "    top6_batsmen = player_runs.nlargest(6)\n",
    "    total_runs_top6 = top6_batsmen.sum()\n",
    "    \n",
    "    ###Getting batting avg of top 6\n",
    "    # player_stats = filtered_batsmen.groupby('batsman_id').agg(\n",
    "    #     total_runs=('runs', 'sum'),\n",
    "    #     dismissals=('inning', 'sum')\n",
    "    # ).reset_index()\n",
    "    player_stats = filtered_batsmen.groupby('batsman_id').agg(\n",
    "        total_runs=('runs', 'sum'),\n",
    "        dismissals=('wicket kind', lambda x: np.count_nonzero(x.notna()))\n",
    "    ).reset_index()\n",
    "\n",
    "\n",
    "    player_stats.loc[player_stats['total_runs'] > 0, 'batting_average'] = player_stats['dismissals'] / player_stats['total_runs']\n",
    "    \n",
    "    # Sort by batting average in descending order and get the top 6\n",
    "    top6_batsmen = player_stats.sort_values(by='batting_average', ascending=True).head(6)\n",
    "    total_batting_avg_top6 = top6_batsmen['batting_average'].sum()\n",
    "\n",
    "    ###Getting top 6 players by strike rate player by strike rate\n",
    "    highest_strike_rates = {}\n",
    "\n",
    "    for player_id in player_ids:\n",
    "        player_data = filtered_batsmen[filtered_batsmen['batsman_id'] == player_id]\n",
    "        player_data_sorted = player_data.sort_values(by='match_dt', ascending=False).head(4)\n",
    "        if not player_data_sorted.empty:\n",
    "            highest_strike_rate = player_data_sorted['strike_rate'].max()\n",
    "            highest_strike_rates[player_id] = highest_strike_rate\n",
    "        \n",
    "    top6_strike_rates = sorted(highest_strike_rates.values(), reverse=True)[:6]\n",
    "    sum_top6_strike_rates = sum(top6_strike_rates)\n",
    "\n",
    "    ###Getting highest score of the player\n",
    "    highest_scores = {}\n",
    "\n",
    "    for player_id in player_ids:\n",
    "        player_data = filtered_batsmen[filtered_batsmen['batsman_id'] == player_id]\n",
    "        player_data_sorted = player_data.sort_values(by='runs',ascending=False)\n",
    "        if not player_data_sorted.empty:\n",
    "            highest_score = player_data_sorted['runs'].max()\n",
    "            highest_scores[player_id] = highest_score\n",
    "\n",
    "    top6_highest_runs = sorted(highest_scores.values(),reverse=True)[:6]\n",
    "    sum_top6_highest_runs = sum(top6_highest_runs)\n",
    "\n",
    "    return {\n",
    "        'runs_top6':total_runs_top6,\n",
    "        'top6_strike_rates':sum_top6_strike_rates,\n",
    "        'top6_highest_runs':sum_top6_highest_runs,\n",
    "        'batting_avg_top6':total_batting_avg_top6\n",
    "    }\n",
    "    \n",
    "            "
   ]
  },
  {
   "cell_type": "code",
   "execution_count": 56,
   "id": "45da66e7-7bd3-40fd-84e2-6ff09f5f4114",
   "metadata": {},
   "outputs": [
    {
     "ename": "ValueError",
     "evalue": "The truth value of a Series is ambiguous. Use a.empty, a.bool(), a.item(), a.any() or a.all().",
     "output_type": "error",
     "traceback": [
      "\u001b[0;31m---------------------------------------------------------------------------\u001b[0m",
      "\u001b[0;31mValueError\u001b[0m                                Traceback (most recent call last)",
      "\u001b[0;32m/tmp/ipykernel_5498/866755800.py\u001b[0m in \u001b[0;36m?\u001b[0;34m()\u001b[0m\n\u001b[0;32m----> 1\u001b[0;31m \u001b[0mstats1\u001b[0m  \u001b[0;34m=\u001b[0m \u001b[0mtrain_data\u001b[0m\u001b[0;34m.\u001b[0m\u001b[0mapply\u001b[0m\u001b[0;34m(\u001b[0m\u001b[0;32mlambda\u001b[0m \u001b[0mrow\u001b[0m\u001b[0;34m:\u001b[0m \u001b[0mcumulative_stats\u001b[0m\u001b[0;34m(\u001b[0m\u001b[0mrow\u001b[0m\u001b[0;34m[\u001b[0m\u001b[0;34m'team1_roster_ids'\u001b[0m\u001b[0;34m]\u001b[0m\u001b[0;34m,\u001b[0m \u001b[0mrow\u001b[0m\u001b[0;34m[\u001b[0m\u001b[0;34m'match_dt'\u001b[0m\u001b[0;34m]\u001b[0m\u001b[0;34m,\u001b[0m \u001b[0mbatsman_data\u001b[0m\u001b[0;34m)\u001b[0m\u001b[0;34m,\u001b[0m \u001b[0maxis\u001b[0m\u001b[0;34m=\u001b[0m\u001b[0;36m1\u001b[0m\u001b[0;34m)\u001b[0m\u001b[0;34m\u001b[0m\u001b[0;34m\u001b[0m\u001b[0m\n\u001b[0m\u001b[1;32m      2\u001b[0m \u001b[0mstats2\u001b[0m  \u001b[0;34m=\u001b[0m \u001b[0mtrain_data\u001b[0m\u001b[0;34m.\u001b[0m\u001b[0mapply\u001b[0m\u001b[0;34m(\u001b[0m\u001b[0;32mlambda\u001b[0m \u001b[0mrow\u001b[0m\u001b[0;34m:\u001b[0m \u001b[0mcumulative_stats\u001b[0m\u001b[0;34m(\u001b[0m\u001b[0mrow\u001b[0m\u001b[0;34m[\u001b[0m\u001b[0;34m'team2_roster_ids'\u001b[0m\u001b[0;34m]\u001b[0m\u001b[0;34m,\u001b[0m \u001b[0mrow\u001b[0m\u001b[0;34m[\u001b[0m\u001b[0;34m'match_dt'\u001b[0m\u001b[0;34m]\u001b[0m\u001b[0;34m,\u001b[0m \u001b[0mbatsman_data\u001b[0m\u001b[0;34m)\u001b[0m\u001b[0;34m,\u001b[0m \u001b[0maxis\u001b[0m\u001b[0;34m=\u001b[0m\u001b[0;36m1\u001b[0m\u001b[0;34m)\u001b[0m\u001b[0;34m\u001b[0m\u001b[0;34m\u001b[0m\u001b[0m\n",
      "\u001b[0;32m~/Documents/ml_project/path/to/venv/lib/python3.12/site-packages/pandas/core/frame.py\u001b[0m in \u001b[0;36m?\u001b[0;34m(self, func, axis, raw, result_type, args, by_row, engine, engine_kwargs, **kwargs)\u001b[0m\n\u001b[1;32m  10370\u001b[0m             \u001b[0mengine_kwargs\u001b[0m\u001b[0;34m=\u001b[0m\u001b[0mengine_kwargs\u001b[0m\u001b[0;34m,\u001b[0m\u001b[0;34m\u001b[0m\u001b[0;34m\u001b[0m\u001b[0m\n\u001b[1;32m  10371\u001b[0m             \u001b[0margs\u001b[0m\u001b[0;34m=\u001b[0m\u001b[0margs\u001b[0m\u001b[0;34m,\u001b[0m\u001b[0;34m\u001b[0m\u001b[0;34m\u001b[0m\u001b[0m\n\u001b[1;32m  10372\u001b[0m             \u001b[0mkwargs\u001b[0m\u001b[0;34m=\u001b[0m\u001b[0mkwargs\u001b[0m\u001b[0;34m,\u001b[0m\u001b[0;34m\u001b[0m\u001b[0;34m\u001b[0m\u001b[0m\n\u001b[1;32m  10373\u001b[0m         \u001b[0;34m)\u001b[0m\u001b[0;34m\u001b[0m\u001b[0;34m\u001b[0m\u001b[0m\n\u001b[0;32m> 10374\u001b[0;31m         \u001b[0;32mreturn\u001b[0m \u001b[0mop\u001b[0m\u001b[0;34m.\u001b[0m\u001b[0mapply\u001b[0m\u001b[0;34m(\u001b[0m\u001b[0;34m)\u001b[0m\u001b[0;34m.\u001b[0m\u001b[0m__finalize__\u001b[0m\u001b[0;34m(\u001b[0m\u001b[0mself\u001b[0m\u001b[0;34m,\u001b[0m \u001b[0mmethod\u001b[0m\u001b[0;34m=\u001b[0m\u001b[0;34m\"apply\"\u001b[0m\u001b[0;34m)\u001b[0m\u001b[0;34m\u001b[0m\u001b[0;34m\u001b[0m\u001b[0m\n\u001b[0m",
      "\u001b[0;32m~/Documents/ml_project/path/to/venv/lib/python3.12/site-packages/pandas/core/apply.py\u001b[0m in \u001b[0;36m?\u001b[0;34m(self)\u001b[0m\n\u001b[1;32m    912\u001b[0m         \u001b[0;31m# raw\u001b[0m\u001b[0;34m\u001b[0m\u001b[0;34m\u001b[0m\u001b[0m\n\u001b[1;32m    913\u001b[0m         \u001b[0;32melif\u001b[0m \u001b[0mself\u001b[0m\u001b[0;34m.\u001b[0m\u001b[0mraw\u001b[0m\u001b[0;34m:\u001b[0m\u001b[0;34m\u001b[0m\u001b[0;34m\u001b[0m\u001b[0m\n\u001b[1;32m    914\u001b[0m             \u001b[0;32mreturn\u001b[0m \u001b[0mself\u001b[0m\u001b[0;34m.\u001b[0m\u001b[0mapply_raw\u001b[0m\u001b[0;34m(\u001b[0m\u001b[0mengine\u001b[0m\u001b[0;34m=\u001b[0m\u001b[0mself\u001b[0m\u001b[0;34m.\u001b[0m\u001b[0mengine\u001b[0m\u001b[0;34m,\u001b[0m \u001b[0mengine_kwargs\u001b[0m\u001b[0;34m=\u001b[0m\u001b[0mself\u001b[0m\u001b[0;34m.\u001b[0m\u001b[0mengine_kwargs\u001b[0m\u001b[0;34m)\u001b[0m\u001b[0;34m\u001b[0m\u001b[0;34m\u001b[0m\u001b[0m\n\u001b[1;32m    915\u001b[0m \u001b[0;34m\u001b[0m\u001b[0m\n\u001b[0;32m--> 916\u001b[0;31m         \u001b[0;32mreturn\u001b[0m \u001b[0mself\u001b[0m\u001b[0;34m.\u001b[0m\u001b[0mapply_standard\u001b[0m\u001b[0;34m(\u001b[0m\u001b[0;34m)\u001b[0m\u001b[0;34m\u001b[0m\u001b[0;34m\u001b[0m\u001b[0m\n\u001b[0m",
      "\u001b[0;32m~/Documents/ml_project/path/to/venv/lib/python3.12/site-packages/pandas/core/apply.py\u001b[0m in \u001b[0;36m?\u001b[0;34m(self)\u001b[0m\n\u001b[1;32m   1061\u001b[0m     \u001b[0;32mdef\u001b[0m \u001b[0mapply_standard\u001b[0m\u001b[0;34m(\u001b[0m\u001b[0mself\u001b[0m\u001b[0;34m)\u001b[0m\u001b[0;34m:\u001b[0m\u001b[0;34m\u001b[0m\u001b[0;34m\u001b[0m\u001b[0m\n\u001b[1;32m   1062\u001b[0m         \u001b[0;32mif\u001b[0m \u001b[0mself\u001b[0m\u001b[0;34m.\u001b[0m\u001b[0mengine\u001b[0m \u001b[0;34m==\u001b[0m \u001b[0;34m\"python\"\u001b[0m\u001b[0;34m:\u001b[0m\u001b[0;34m\u001b[0m\u001b[0;34m\u001b[0m\u001b[0m\n\u001b[0;32m-> 1063\u001b[0;31m             \u001b[0mresults\u001b[0m\u001b[0;34m,\u001b[0m \u001b[0mres_index\u001b[0m \u001b[0;34m=\u001b[0m \u001b[0mself\u001b[0m\u001b[0;34m.\u001b[0m\u001b[0mapply_series_generator\u001b[0m\u001b[0;34m(\u001b[0m\u001b[0;34m)\u001b[0m\u001b[0;34m\u001b[0m\u001b[0;34m\u001b[0m\u001b[0m\n\u001b[0m\u001b[1;32m   1064\u001b[0m         \u001b[0;32melse\u001b[0m\u001b[0;34m:\u001b[0m\u001b[0;34m\u001b[0m\u001b[0;34m\u001b[0m\u001b[0m\n\u001b[1;32m   1065\u001b[0m             \u001b[0mresults\u001b[0m\u001b[0;34m,\u001b[0m \u001b[0mres_index\u001b[0m \u001b[0;34m=\u001b[0m \u001b[0mself\u001b[0m\u001b[0;34m.\u001b[0m\u001b[0mapply_series_numba\u001b[0m\u001b[0;34m(\u001b[0m\u001b[0;34m)\u001b[0m\u001b[0;34m\u001b[0m\u001b[0;34m\u001b[0m\u001b[0m\n\u001b[1;32m   1066\u001b[0m \u001b[0;34m\u001b[0m\u001b[0m\n",
      "\u001b[0;32m~/Documents/ml_project/path/to/venv/lib/python3.12/site-packages/pandas/core/apply.py\u001b[0m in \u001b[0;36m?\u001b[0;34m(self)\u001b[0m\n\u001b[1;32m   1077\u001b[0m \u001b[0;34m\u001b[0m\u001b[0m\n\u001b[1;32m   1078\u001b[0m         \u001b[0;32mwith\u001b[0m \u001b[0moption_context\u001b[0m\u001b[0;34m(\u001b[0m\u001b[0;34m\"mode.chained_assignment\"\u001b[0m\u001b[0;34m,\u001b[0m \u001b[0;32mNone\u001b[0m\u001b[0;34m)\u001b[0m\u001b[0;34m:\u001b[0m\u001b[0;34m\u001b[0m\u001b[0;34m\u001b[0m\u001b[0m\n\u001b[1;32m   1079\u001b[0m             \u001b[0;32mfor\u001b[0m \u001b[0mi\u001b[0m\u001b[0;34m,\u001b[0m \u001b[0mv\u001b[0m \u001b[0;32min\u001b[0m \u001b[0menumerate\u001b[0m\u001b[0;34m(\u001b[0m\u001b[0mseries_gen\u001b[0m\u001b[0;34m)\u001b[0m\u001b[0;34m:\u001b[0m\u001b[0;34m\u001b[0m\u001b[0;34m\u001b[0m\u001b[0m\n\u001b[1;32m   1080\u001b[0m                 \u001b[0;31m# ignore SettingWithCopy here in case the user mutates\u001b[0m\u001b[0;34m\u001b[0m\u001b[0;34m\u001b[0m\u001b[0m\n\u001b[0;32m-> 1081\u001b[0;31m                 \u001b[0mresults\u001b[0m\u001b[0;34m[\u001b[0m\u001b[0mi\u001b[0m\u001b[0;34m]\u001b[0m \u001b[0;34m=\u001b[0m \u001b[0mself\u001b[0m\u001b[0;34m.\u001b[0m\u001b[0mfunc\u001b[0m\u001b[0;34m(\u001b[0m\u001b[0mv\u001b[0m\u001b[0;34m,\u001b[0m \u001b[0;34m*\u001b[0m\u001b[0mself\u001b[0m\u001b[0;34m.\u001b[0m\u001b[0margs\u001b[0m\u001b[0;34m,\u001b[0m \u001b[0;34m**\u001b[0m\u001b[0mself\u001b[0m\u001b[0;34m.\u001b[0m\u001b[0mkwargs\u001b[0m\u001b[0;34m)\u001b[0m\u001b[0;34m\u001b[0m\u001b[0;34m\u001b[0m\u001b[0m\n\u001b[0m\u001b[1;32m   1082\u001b[0m                 \u001b[0;32mif\u001b[0m \u001b[0misinstance\u001b[0m\u001b[0;34m(\u001b[0m\u001b[0mresults\u001b[0m\u001b[0;34m[\u001b[0m\u001b[0mi\u001b[0m\u001b[0;34m]\u001b[0m\u001b[0;34m,\u001b[0m \u001b[0mABCSeries\u001b[0m\u001b[0;34m)\u001b[0m\u001b[0;34m:\u001b[0m\u001b[0;34m\u001b[0m\u001b[0;34m\u001b[0m\u001b[0m\n\u001b[1;32m   1083\u001b[0m                     \u001b[0;31m# If we have a view on v, we need to make a copy because\u001b[0m\u001b[0;34m\u001b[0m\u001b[0;34m\u001b[0m\u001b[0m\n\u001b[1;32m   1084\u001b[0m                     \u001b[0;31m#  series_generator will swap out the underlying data\u001b[0m\u001b[0;34m\u001b[0m\u001b[0;34m\u001b[0m\u001b[0m\n",
      "\u001b[0;32m/tmp/ipykernel_5498/866755800.py\u001b[0m in \u001b[0;36m?\u001b[0;34m(row)\u001b[0m\n\u001b[0;32m----> 1\u001b[0;31m \u001b[0mstats1\u001b[0m  \u001b[0;34m=\u001b[0m \u001b[0mtrain_data\u001b[0m\u001b[0;34m.\u001b[0m\u001b[0mapply\u001b[0m\u001b[0;34m(\u001b[0m\u001b[0;32mlambda\u001b[0m \u001b[0mrow\u001b[0m\u001b[0;34m:\u001b[0m \u001b[0mcumulative_stats\u001b[0m\u001b[0;34m(\u001b[0m\u001b[0mrow\u001b[0m\u001b[0;34m[\u001b[0m\u001b[0;34m'team1_roster_ids'\u001b[0m\u001b[0;34m]\u001b[0m\u001b[0;34m,\u001b[0m \u001b[0mrow\u001b[0m\u001b[0;34m[\u001b[0m\u001b[0;34m'match_dt'\u001b[0m\u001b[0;34m]\u001b[0m\u001b[0;34m,\u001b[0m \u001b[0mbatsman_data\u001b[0m\u001b[0;34m)\u001b[0m\u001b[0;34m,\u001b[0m \u001b[0maxis\u001b[0m\u001b[0;34m=\u001b[0m\u001b[0;36m1\u001b[0m\u001b[0;34m)\u001b[0m\u001b[0;34m\u001b[0m\u001b[0;34m\u001b[0m\u001b[0m\n\u001b[0m",
      "\u001b[0;32m/tmp/ipykernel_5498/2348798894.py\u001b[0m in \u001b[0;36m?\u001b[0;34m(player_ids, match_dt, batsman_df)\u001b[0m\n\u001b[1;32m     23\u001b[0m         \u001b[0mtotal_runs\u001b[0m\u001b[0;34m=\u001b[0m\u001b[0;34m(\u001b[0m\u001b[0;34m'runs'\u001b[0m\u001b[0;34m,\u001b[0m \u001b[0;34m'sum'\u001b[0m\u001b[0;34m)\u001b[0m\u001b[0;34m,\u001b[0m\u001b[0;34m\u001b[0m\u001b[0;34m\u001b[0m\u001b[0m\n\u001b[1;32m     24\u001b[0m         \u001b[0mdismissals\u001b[0m\u001b[0;34m=\u001b[0m\u001b[0;34m(\u001b[0m\u001b[0;34m'wicket kind'\u001b[0m\u001b[0;34m,\u001b[0m \u001b[0;32mlambda\u001b[0m \u001b[0mx\u001b[0m\u001b[0;34m:\u001b[0m \u001b[0mnp\u001b[0m\u001b[0;34m.\u001b[0m\u001b[0mcount_nonzero\u001b[0m\u001b[0;34m(\u001b[0m\u001b[0mx\u001b[0m\u001b[0;34m.\u001b[0m\u001b[0mnotna\u001b[0m\u001b[0;34m(\u001b[0m\u001b[0;34m)\u001b[0m\u001b[0;34m)\u001b[0m\u001b[0;34m)\u001b[0m\u001b[0;34m\u001b[0m\u001b[0;34m\u001b[0m\u001b[0m\n\u001b[1;32m     25\u001b[0m     \u001b[0;34m)\u001b[0m\u001b[0;34m.\u001b[0m\u001b[0mreset_index\u001b[0m\u001b[0;34m(\u001b[0m\u001b[0;34m)\u001b[0m\u001b[0;34m\u001b[0m\u001b[0;34m\u001b[0m\u001b[0m\n\u001b[1;32m     26\u001b[0m \u001b[0;34m\u001b[0m\u001b[0m\n\u001b[0;32m---> 27\u001b[0;31m     \u001b[0;32mif\u001b[0m \u001b[0mplayer_stats\u001b[0m\u001b[0;34m[\u001b[0m\u001b[0;34m'total_runs'\u001b[0m\u001b[0;34m]\u001b[0m\u001b[0;34m>\u001b[0m\u001b[0;36m0\u001b[0m\u001b[0;34m:\u001b[0m\u001b[0;34m\u001b[0m\u001b[0;34m\u001b[0m\u001b[0m\n\u001b[0m\u001b[1;32m     28\u001b[0m         \u001b[0mplayer_stats\u001b[0m\u001b[0;34m[\u001b[0m\u001b[0;34m'batting_average'\u001b[0m\u001b[0;34m]\u001b[0m \u001b[0;34m=\u001b[0m \u001b[0mplayer_stats\u001b[0m\u001b[0;34m[\u001b[0m\u001b[0;34m'dismissals'\u001b[0m\u001b[0;34m]\u001b[0m\u001b[0;34m/\u001b[0m\u001b[0mplayer_stats\u001b[0m\u001b[0;34m[\u001b[0m\u001b[0;34m'total_runs'\u001b[0m\u001b[0;34m]\u001b[0m\u001b[0;34m\u001b[0m\u001b[0;34m\u001b[0m\u001b[0m\n\u001b[1;32m     29\u001b[0m \u001b[0;34m\u001b[0m\u001b[0m\n\u001b[1;32m     30\u001b[0m     \u001b[0;31m# Sort by batting average in descending order and get the top 6\u001b[0m\u001b[0;34m\u001b[0m\u001b[0;34m\u001b[0m\u001b[0m\n",
      "\u001b[0;32m~/Documents/ml_project/path/to/venv/lib/python3.12/site-packages/pandas/core/generic.py\u001b[0m in \u001b[0;36m?\u001b[0;34m(self)\u001b[0m\n\u001b[1;32m   1575\u001b[0m     \u001b[0;34m@\u001b[0m\u001b[0mfinal\u001b[0m\u001b[0;34m\u001b[0m\u001b[0;34m\u001b[0m\u001b[0m\n\u001b[1;32m   1576\u001b[0m     \u001b[0;32mdef\u001b[0m \u001b[0m__nonzero__\u001b[0m\u001b[0;34m(\u001b[0m\u001b[0mself\u001b[0m\u001b[0;34m)\u001b[0m \u001b[0;34m->\u001b[0m \u001b[0mNoReturn\u001b[0m\u001b[0;34m:\u001b[0m\u001b[0;34m\u001b[0m\u001b[0;34m\u001b[0m\u001b[0m\n\u001b[0;32m-> 1577\u001b[0;31m         raise ValueError(\n\u001b[0m\u001b[1;32m   1578\u001b[0m             \u001b[0;34mf\"\u001b[0m\u001b[0;34mThe truth value of a \u001b[0m\u001b[0;34m{\u001b[0m\u001b[0mtype\u001b[0m\u001b[0;34m(\u001b[0m\u001b[0mself\u001b[0m\u001b[0;34m)\u001b[0m\u001b[0;34m.\u001b[0m\u001b[0m__name__\u001b[0m\u001b[0;34m}\u001b[0m\u001b[0;34m is ambiguous. \u001b[0m\u001b[0;34m\"\u001b[0m\u001b[0;34m\u001b[0m\u001b[0;34m\u001b[0m\u001b[0m\n\u001b[1;32m   1579\u001b[0m             \u001b[0;34m\"Use a.empty, a.bool(), a.item(), a.any() or a.all().\"\u001b[0m\u001b[0;34m\u001b[0m\u001b[0;34m\u001b[0m\u001b[0m\n\u001b[1;32m   1580\u001b[0m         \u001b[0;34m)\u001b[0m\u001b[0;34m\u001b[0m\u001b[0;34m\u001b[0m\u001b[0m\n",
      "\u001b[0;31mValueError\u001b[0m: The truth value of a Series is ambiguous. Use a.empty, a.bool(), a.item(), a.any() or a.all()."
     ]
    }
   ],
   "source": [
    "stats1  = train_data.apply(lambda row: cumulative_stats(row['team1_roster_ids'], row['match_dt'], batsman_data), axis=1)\n",
    "stats2  = train_data.apply(lambda row: cumulative_stats(row['team2_roster_ids'], row['match_dt'], batsman_data), axis=1)"
   ]
  },
  {
   "cell_type": "code",
   "execution_count": 33,
   "id": "5dadf2a4-d2ed-4bfa-bfaa-094e4ccc2574",
   "metadata": {},
   "outputs": [],
   "source": [
    "# print(stats1.head(4))"
   ]
  },
  {
   "cell_type": "code",
   "execution_count": null,
   "id": "074237fe-c010-41a7-be8c-dd8c2afbb95a",
   "metadata": {},
   "outputs": [],
   "source": [
    "df_stats1 = pd.json_normalize(stats1)\n",
    "df_stats2 = pd.json_normalize(stats2)\n",
    "# print(df_stats.head(4))"
   ]
  },
  {
   "cell_type": "code",
   "execution_count": null,
   "id": "63dfdd8d-7c6e-4b87-9f76-48657988dfe5",
   "metadata": {},
   "outputs": [],
   "source": [
    "# print(len(stats))\n",
    "# print(len(train_data))\n",
    "\n",
    "new_train_data['team1_runs_top6'] = df_stats1['runs_top6'] #0.5473684210526316\n",
    "new_train_data['team2_runs_top6'] = df_stats2['runs_top6']\n",
    "# new_train_data['team1_top6_strike_rates'] = df_stats1['top6_strike_rates'] #0.46842105263157896\n",
    "# new_train_data['team2_top6_strike_rates'] = df_stats2['top6_strike_rates']\n",
    "# new_train_data['team1_top6_highest_runs'] = df_stats1['top6_highest_runs'] # 0.48947368421052634\n",
    "# new_train_data['team2_top6_highest_runs'] = df_stats2['top6_highest_runs']\n",
    "new_train_data['team1_batting_avg_top6'] = df_stats1['batting_avg_top6']\n",
    "new_train_data['team2_batting_avg_top6'] = df_stats2['batting_avg_top6'] #0.51578947368421\n",
    "\n",
    "# new_train_data['runs_top6'] = df_stats2['runs_top6']-df_stats1['runs_top6']\n",
    "# new_train_data['runs_top6'] = new_train_data['runs_top6']/(new_train_data['runs_top6'].max())\n",
    "# new_train_data['top6_strike_rates'] = df_stats2['top6_strike_rates']-df_stats1['top6_strike_rates']\n",
    "# new_train_data['top6_strike_rates'] = new_train_data['top6_strike_rates']/(new_train_data['top6_strike_rates'].max())\n",
    "# new_train_data['top6_highest_runs'] = df_stats2['top6_highest_runs']-df_stats1['top6_highest_runs']\n",
    "# new_train_data['top6_highest_runs'] = new_train_data['top6_highest_runs']/(new_train_data['top6_highest_runs'].max())\n",
    "# new_train_data['batting_avg_top6'] = df_stats2['batting_avg_top6']-df_stats1['batting_avg_top6']\n",
    "# new_train_data['batting_avg_top6'] = new_train_data['batting_avg_top6']/(new_train_data['batting_avg_top6'].max())\n"
   ]
  },
  {
   "cell_type": "code",
   "execution_count": 44,
   "id": "002e867e-f0ce-4dec-b667-077247e442d8",
   "metadata": {},
   "outputs": [
    {
     "name": "stdout",
     "output_type": "stream",
     "text": [
      "match id                  0\n",
      "batsman                   0\n",
      "batsman_id                0\n",
      "batsman_details           0\n",
      "is_batsman_captain        0\n",
      "is_batsman_keeper         0\n",
      "inning                    0\n",
      "runs                      0\n",
      "balls_faced               0\n",
      "over_faced_first          0\n",
      "wicket kind            5328\n",
      "out_by_bowler          5328\n",
      "out_by_fielder        10645\n",
      "bowler_id              6355\n",
      "bowler_details         6355\n",
      "is_bowler_keeper       5785\n",
      "is_bowler_captain      6355\n",
      "strike_rate               9\n",
      "Fours                 10283\n",
      "Sixes                 15489\n",
      "match_dt                  0\n",
      "dtype: int64\n"
     ]
    }
   ],
   "source": [
    "print(batsman_data.isnull().sum())"
   ]
  },
  {
   "cell_type": "code",
   "execution_count": 32,
   "id": "7a8b6e11-b758-44f8-b9ea-ea1c64647d63",
   "metadata": {},
   "outputs": [
    {
     "name": "stdout",
     "output_type": "stream",
     "text": [
      "   match id  team1_id  team2_id  winner_id toss decision     venue       city  \\\n",
      "0   8887675     33921     33928      33921         field  Be Ol Ht     Hobart   \n",
      "1   8887689     33935     33949      33935           bat  Jn Ol Me  Melbourne   \n",
      "2   8887703     33949     33942      33942           bat  Me Ct Gd  Melbourne   \n",
      "3   8887717     33928     33914      33914         field     Ae Ol   Adelaide   \n",
      "\n",
      "     match_dt         lighting series_name  ... team1_total_top_6_by_inning  \\\n",
      "0  2022-01-01  day/night match    Bg Bh Le  ...                           2   \n",
      "1  2022-01-02  day/night match    Bg Bh Le  ...                           2   \n",
      "2  2022-01-03      night match    Bg Bh Le  ...                           1   \n",
      "3  2022-01-05      night match    Bg Bh Le  ...                           0   \n",
      "\n",
      "   team2_total_top_6_by_inning  team1_total_dot_avg_top6  \\\n",
      "0                            0                226.132967   \n",
      "1                            1                239.704240   \n",
      "2                            1                182.645923   \n",
      "3                            5                173.007492   \n",
      "\n",
      "   team2_total_dot_avg_top6  team1_bowler_runs  team2_bowler_runs  \\\n",
      "0                193.529950          25.495784          25.152041   \n",
      "1                144.450894          23.727659          23.871462   \n",
      "2                202.456031          24.617244          22.261380   \n",
      "3                211.314776          22.358233          21.436203   \n",
      "\n",
      "   team1_runs_top6  team2_runs_top6  team1_batting_avg_top6  \\\n",
      "0             2451             3826              168.698267   \n",
      "1             2874             2263              181.772889   \n",
      "2             1594             2497              112.868687   \n",
      "3             3224             1904                     inf   \n",
      "\n",
      "   team2_batting_avg_top6  \n",
      "0                     inf  \n",
      "1              128.699379  \n",
      "2                     inf  \n",
      "3              157.922439  \n",
      "\n",
      "[4 rows x 58 columns]\n",
      "Index(['match id', 'team1_id', 'team2_id', 'winner_id', 'toss decision',\n",
      "       'venue', 'city', 'match_dt', 'lighting', 'series_name', 'season',\n",
      "       'ground_id', 'team_count_50runs_last15', 'team_winp_last5',\n",
      "       'team1only_avg_runs_last15', 'team1_winp_team2_last15',\n",
      "       'ground_avg_runs_last15', 'toss_winner_team_id', 'team1_wins_by_team',\n",
      "       'team2_wins_by_team', 'team1_win_on_ground', 'team2_win_on_ground',\n",
      "       'team1_win_on_city', 'team2_win_on_city', 'team1_win_on_venue',\n",
      "       'team2_win_on_venue', 'team1_wins_by_toss_decision',\n",
      "       'team2_wins_by_toss_decision', 'team1_wins_by_lighting',\n",
      "       'team2_wins_by_lighting', 'team1_wins_by_series',\n",
      "       'team2_wins_by_series', 'team1_wins_by_season', 'team2_wins_by_season',\n",
      "       'team1_top6_economy_sum', 'team2_top6_economy_sum',\n",
      "       'team1_top6_wicket_avg_sum', 'team2_top6_wicket_avg_sum',\n",
      "       'team1_top6_bowling_avg', 'team2_top6_bowling_avg',\n",
      "       'team1_top6_maidens', 'team2_top6_maidens',\n",
      "       'team1_total_top6_leastfours', 'team2_total_top6_leastfours',\n",
      "       'team1_total_top6_leastSixes', 'team2_total_top6_leastSixes',\n",
      "       'team1_total_bowler_captains', 'team2_total_bowler_captains',\n",
      "       'team1_total_top_6_by_inning', 'team2_total_top_6_by_inning',\n",
      "       'team1_total_dot_avg_top6', 'team2_total_dot_avg_top6',\n",
      "       'team1_bowler_runs', 'team2_bowler_runs', 'team1_runs_top6',\n",
      "       'team2_runs_top6', 'team1_batting_avg_top6', 'team2_batting_avg_top6'],\n",
      "      dtype='object')\n"
     ]
    }
   ],
   "source": [
    "print(new_train_data.head(4))\n",
    "# new_train_data = new_train_data.drop(columns=['batting_avg', 'boundary_percentage','run_rate'])\n",
    "print(new_train_data.columns)\n",
    "# print(type(new_train_data['team1_id'][0]))\n",
    "# print(type(new_train_data['toss_winner_id'][0]))"
   ]
  },
  {
   "cell_type": "markdown",
   "id": "b1340dd9-c2e3-475e-b5da-1e8fb652b93d",
   "metadata": {},
   "source": [
    "CHECKING CORRELATION OF DATASET"
   ]
  },
  {
   "cell_type": "code",
   "execution_count": 338,
   "id": "a41edb29-f83e-405b-938f-0beed1c73a76",
   "metadata": {},
   "outputs": [],
   "source": [
    "# new_train_data['toss_winner_id'] = (new_train_data['toss_winner_id'].astype(int)==new_train_data['team1_id']).astype(int)\n",
    "new_train_data['target'] = (train_data['winner_id'] == train_data['team2_id']).astype(int)\n",
    "new_train_data = new_train_data.drop(columns=['match id','match_dt','winner_id','toss_winner_team_id'])"
   ]
  },
  {
   "cell_type": "code",
   "execution_count": 339,
   "id": "318e5297-362f-46a9-abce-4f452f58759f",
   "metadata": {},
   "outputs": [],
   "source": [
    "new_train_data = new_train_data.drop(columns=[\n",
    "    'team1_id', 'team2_id', 'toss decision', 'venue', 'city', \n",
    "    'lighting', 'series_name', 'season', 'ground_id'\n",
    "])"
   ]
  },
  {
   "cell_type": "code",
   "execution_count": 340,
   "id": "32a69208-915b-4e32-9718-d302cebf9547",
   "metadata": {},
   "outputs": [
    {
     "name": "stdout",
     "output_type": "stream",
     "text": [
      "   team_count_50runs_last15  team_winp_last5  team1only_avg_runs_last15  \\\n",
      "0                  0.583333         0.672131                 166.933333   \n",
      "1                  1.222222         1.327869                 178.733333   \n",
      "2                  0.400000        41.000000                 171.066667   \n",
      "3                  1.000000        61.000000                 173.333333   \n",
      "\n",
      "   team1_winp_team2_last15  ground_avg_runs_last15  team1_cumulative_economy  \\\n",
      "0                      0.0              162.333333                  5.000000   \n",
      "1                    100.0                0.000000                  9.558571   \n",
      "2                     50.0              162.687500                  8.285714   \n",
      "3                    100.0              161.045455                 10.035714   \n",
      "\n",
      "   team2_cumulative_economy  target  \n",
      "0                  7.335714       0  \n",
      "1                  8.266000       0  \n",
      "2                  9.475714       1  \n",
      "3                  9.886667       1  \n",
      "Index(['team_count_50runs_last15', 'team_winp_last5',\n",
      "       'team1only_avg_runs_last15', 'team1_winp_team2_last15',\n",
      "       'ground_avg_runs_last15', 'team1_cumulative_economy',\n",
      "       'team2_cumulative_economy', 'target'],\n",
      "      dtype='object')\n"
     ]
    }
   ],
   "source": [
    "print(new_train_data.head(4))\n",
    "print(new_train_data.columns)"
   ]
  },
  {
   "cell_type": "code",
   "execution_count": 225,
   "id": "51fb1444-fe7d-42a8-aabb-1eff5e6e50f0",
   "metadata": {},
   "outputs": [
    {
     "name": "stdout",
     "output_type": "stream",
     "text": [
      "target                       1.000000\n",
      "team_winp_last5             -0.011712\n",
      "ground_avg_runs_last15      -0.050018\n",
      "team1only_avg_runs_last15   -0.054261\n",
      "team1_winp_team2_last15     -0.055788\n",
      "team2_top6_economy_sum      -0.062064\n",
      "team1_top6_economy_sum      -0.101357\n",
      "team_count_50runs_last15    -0.110761\n",
      "Name: target, dtype: float64\n"
     ]
    }
   ],
   "source": [
    "correlation_matrix = new_train_data.corr()\n",
    "print(correlation_matrix['target'].sort_values(ascending=False))\n"
   ]
  },
  {
   "cell_type": "code",
   "execution_count": 40,
   "id": "3550dccb-e635-44db-a3f0-582e02c9325c",
   "metadata": {},
   "outputs": [],
   "source": [
    "# import pandas as pd\n",
    "# from sklearn.feature_selection import SelectKBest, f_classif\n",
    "\n",
    "# # Assuming df is your DataFrame\n",
    "# X_f = new_train_data.drop('winner_id', axis=1)\n",
    "# y_f = new_train_data['winner_id']\n",
    "\n",
    "# # Apply SelectKBest class to extract top features\n",
    "# bestfeatures = SelectKBest(score_func=f_classif, k='all')  # Select all features for comparison\n",
    "# fit = bestfeatures.fit(X_f, y_f)\n",
    "\n",
    "# dfscores = pd.DataFrame(fit.scores_, columns=['Score'])\n",
    "# dfcolumns = pd.DataFrame(X_f.columns, columns=['Feature'])\n",
    "\n",
    "# # Concat two dataframes for better visualization\n",
    "# featureScores = pd.concat([dfcolumns, dfscores], axis=1)\n",
    "\n",
    "# # Handle any NaN values\n",
    "# featureScores.dropna(inplace=True)\n",
    "\n",
    "# # Sort and print the top features\n",
    "# print(featureScores.nlargest(20, 'Score'))\n"
   ]
  },
  {
   "cell_type": "code",
   "execution_count": 33,
   "id": "f74244c8-5b72-4aa2-9bb9-e6269539f7b1",
   "metadata": {},
   "outputs": [
    {
     "name": "stdout",
     "output_type": "stream",
     "text": [
      "   team_count_50runs_last15  team_winp_last5  team1only_avg_runs_last15  \\\n",
      "0                  0.583333         0.672131                 166.933333   \n",
      "1                  1.222222         1.327869                 178.733333   \n",
      "2                  0.400000        41.000000                 171.066667   \n",
      "3                  1.000000        61.000000                 173.333333   \n",
      "\n",
      "   team1_winp_team2_last15  ground_avg_runs_last15  team1_wins_by_team  \\\n",
      "0                      0.0              162.333333                  10   \n",
      "1                    100.0                0.000000                  14   \n",
      "2                     50.0              162.687500                   6   \n",
      "3                    100.0              161.045455                   7   \n",
      "\n",
      "   team2_wins_by_team  team1_win_on_ground  team2_win_on_ground  \\\n",
      "0                   7                    0                    3   \n",
      "1                   6                    0                    0   \n",
      "2                   4                    3                    1   \n",
      "3                   5                    0                    5   \n",
      "\n",
      "   team1_win_on_city  ...  team2_total_top_6_by_inning  \\\n",
      "0                  0  ...                            0   \n",
      "1                  5  ...                            1   \n",
      "2                  3  ...                            1   \n",
      "3                  0  ...                            5   \n",
      "\n",
      "   team1_total_dot_avg_top6  team2_total_dot_avg_top6  team1_bowler_runs  \\\n",
      "0                226.132967                193.529950          25.495784   \n",
      "1                239.704240                144.450894          23.727659   \n",
      "2                182.645923                202.456031          24.617244   \n",
      "3                173.007492                211.314776          22.358233   \n",
      "\n",
      "   team2_bowler_runs  team1_runs_top6  team2_runs_top6  \\\n",
      "0          25.152041             2451             3826   \n",
      "1          23.871462             2874             2263   \n",
      "2          22.261380             1594             2497   \n",
      "3          21.436203             3224             1904   \n",
      "\n",
      "   team1_batting_avg_top6  team2_batting_avg_top6  target  \n",
      "0              168.698267                     inf       0  \n",
      "1              181.772889              128.699379       0  \n",
      "2              112.868687                     inf       1  \n",
      "3                     inf              157.922439       1  \n",
      "\n",
      "[4 rows x 46 columns]\n",
      "Index(['team_count_50runs_last15', 'team_winp_last5',\n",
      "       'team1only_avg_runs_last15', 'team1_winp_team2_last15',\n",
      "       'ground_avg_runs_last15', 'team1_wins_by_team', 'team2_wins_by_team',\n",
      "       'team1_win_on_ground', 'team2_win_on_ground', 'team1_win_on_city',\n",
      "       'team2_win_on_city', 'team1_win_on_venue', 'team2_win_on_venue',\n",
      "       'team1_wins_by_toss_decision', 'team2_wins_by_toss_decision',\n",
      "       'team1_wins_by_lighting', 'team2_wins_by_lighting',\n",
      "       'team1_wins_by_series', 'team2_wins_by_series', 'team1_wins_by_season',\n",
      "       'team2_wins_by_season', 'team1_top6_economy_sum',\n",
      "       'team2_top6_economy_sum', 'team1_top6_wicket_avg_sum',\n",
      "       'team2_top6_wicket_avg_sum', 'team1_top6_bowling_avg',\n",
      "       'team2_top6_bowling_avg', 'team1_top6_maidens', 'team2_top6_maidens',\n",
      "       'team1_total_top6_leastfours', 'team2_total_top6_leastfours',\n",
      "       'team1_total_top6_leastSixes', 'team2_total_top6_leastSixes',\n",
      "       'team1_total_bowler_captains', 'team2_total_bowler_captains',\n",
      "       'team1_total_top_6_by_inning', 'team2_total_top_6_by_inning',\n",
      "       'team1_total_dot_avg_top6', 'team2_total_dot_avg_top6',\n",
      "       'team1_bowler_runs', 'team2_bowler_runs', 'team1_runs_top6',\n",
      "       'team2_runs_top6', 'team1_batting_avg_top6', 'team2_batting_avg_top6',\n",
      "       'target'],\n",
      "      dtype='object')\n"
     ]
    }
   ],
   "source": [
    "# new_train_data['toss_winner_id'] = (new_train_data['toss_winner_id'].astype(int)==new_train_data['team1_id']).astype(int)\n",
    "new_train_data['target'] = (train_data['winner_id'] == train_data['team2_id']).astype(int)\n",
    "new_train_data = new_train_data.drop(columns=['match id','match_dt','winner_id','toss_winner_team_id'])\n",
    "new_train_data = new_train_data.drop(columns=[\n",
    "    'team1_id', 'team2_id', 'toss decision', 'venue', 'city', \n",
    "    'lighting', 'series_name', 'season', 'ground_id'\n",
    "])\n",
    "print(new_train_data.head(4))\n",
    "print(new_train_data.columns)"
   ]
  },
  {
   "cell_type": "code",
   "execution_count": 45,
   "id": "827737c0-70d0-4b70-aa7b-42400771a86a",
   "metadata": {},
   "outputs": [],
   "source": [
    "X = new_train_data\n",
    "# X['target'] = (X['winner_id'] == X['team1_id']).astype(int)\n",
    "# X['toss_winner_id'] = (X['toss_winner_id'].astype(int)==X['team1_id']).astype(int)\n",
    "Y = X['target']\n",
    "X = X.drop(columns=['target'])"
   ]
  },
  {
   "cell_type": "code",
   "execution_count": 46,
   "id": "0f150251-61d5-423f-8000-6b98350fc792",
   "metadata": {},
   "outputs": [],
   "source": [
    "data_length = len(X)\n",
    "split_index = int(data_length * 0.8)  # 80% for training, 20% for testing\n",
    "\n",
    "X_train = X[:split_index]\n",
    "y_train = Y[:split_index]\n",
    "\n",
    "X_test = X[split_index:]\n",
    "y_test = Y[split_index:]"
   ]
  },
  {
   "cell_type": "code",
   "execution_count": 47,
   "id": "9f571ef3-fff0-45ce-9ce0-7dc8ecfb5ac2",
   "metadata": {},
   "outputs": [
    {
     "name": "stdout",
     "output_type": "stream",
     "text": [
      "Index(['team_count_50runs_last15', 'team_winp_last5',\n",
      "       'team1only_avg_runs_last15', 'team1_winp_team2_last15',\n",
      "       'ground_avg_runs_last15', 'team1_wins_by_team', 'team2_wins_by_team',\n",
      "       'team1_win_on_ground', 'team2_win_on_ground', 'team1_win_on_city',\n",
      "       'team2_win_on_city', 'team1_win_on_venue', 'team2_win_on_venue',\n",
      "       'team1_wins_by_toss_decision', 'team2_wins_by_toss_decision',\n",
      "       'team1_wins_by_lighting', 'team2_wins_by_lighting',\n",
      "       'team1_wins_by_series', 'team2_wins_by_series', 'team1_wins_by_season',\n",
      "       'team2_wins_by_season', 'team1_top6_economy_sum',\n",
      "       'team2_top6_economy_sum', 'team1_top6_wicket_avg_sum',\n",
      "       'team2_top6_wicket_avg_sum', 'team1_top6_bowling_avg',\n",
      "       'team2_top6_bowling_avg', 'team1_top6_maidens', 'team2_top6_maidens',\n",
      "       'team1_total_top6_leastfours', 'team2_total_top6_leastfours',\n",
      "       'team1_total_top6_leastSixes', 'team2_total_top6_leastSixes',\n",
      "       'team1_total_bowler_captains', 'team2_total_bowler_captains',\n",
      "       'team1_total_top_6_by_inning', 'team2_total_top_6_by_inning',\n",
      "       'team1_total_dot_avg_top6', 'team2_total_dot_avg_top6',\n",
      "       'team1_bowler_runs', 'team2_bowler_runs', 'team1_runs_top6',\n",
      "       'team2_runs_top6', 'team1_batting_avg_top6', 'team2_batting_avg_top6',\n",
      "       'target'],\n",
      "      dtype='object')\n"
     ]
    }
   ],
   "source": [
    "print(new_train_data.columns)"
   ]
  },
  {
   "cell_type": "code",
   "execution_count": 111,
   "id": "85e11040-1b1b-4f3a-b669-bad58679519a",
   "metadata": {},
   "outputs": [
    {
     "data": {
      "image/png": "[encoded data removed]",
      "text/plain": [
       "<Figure size 1000x800 with 1 Axes>"
      ]
     },
     "metadata": {},
     "output_type": "display_data"
    },
    {
     "data": {
      "image/png": "[encoded data removed]",
      "text/plain": [
       "<Figure size 800x670 with 1 Axes>"
      ]
     },
     "metadata": {},
     "output_type": "display_data"
    },
    {
     "data": {
      "image/png": "[encoded data removed]",
      "text/plain": [
       "<Figure size 800x670 with 2 Axes>"
      ]
     },
     "metadata": {},
     "output_type": "display_data"
    }
   ],
   "source": [
    "import pandas as pd\n",
    "from sklearn.model_selection import train_test_split\n",
    "from sklearn.ensemble import RandomForestClassifier\n",
    "from sklearn.ensemble import GradientBoostingClassifier\n",
    "import shap\n",
    "import matplotlib.pyplot as plt\n",
    "\n",
    "# Separating features and labels\n",
    "# new_train_data['winner_id'] = (new_train_data['winner_id'].astype(int)==new_train_data['team2_id']).astype(int)\n",
    "# X = new_train_data.drop(columns=['winner_id','match_dt','match id'])  # Replace 'winner_id' with your actual label column\n",
    "# y = new_train_data['winner_id']\n",
    "\n",
    "# Method 1: Using Random Forest for Feature Importance\n",
    "rf = RandomForestClassifier(n_estimators=100, random_state=42)\n",
    "rf.fit(X_train, y_train)\n",
    "\n",
    "# Extracting feature importances\n",
    "rf_feature_importances = rf.feature_importances_\n",
    "features = X_train.columns\n",
    "\n",
    "# Creating a DataFrame for better visualization\n",
    "importance_df = pd.DataFrame({'Feature': features, 'Importance': rf_feature_importances})\n",
    "importance_df = importance_df.sort_values(by='Importance', ascending=False)\n",
    "\n",
    "# Plotting feature importances\n",
    "plt.figure(figsize=(10, 8))\n",
    "plt.barh(importance_df['Feature'], importance_df['Importance'])\n",
    "plt.xlabel('Importance')\n",
    "plt.ylabel('Feature')\n",
    "plt.title('Feature Importances from Random Forest')\n",
    "plt.gca().invert_yaxis()\n",
    "plt.show()\n",
    "\n",
    "# Method 2: Using SHAP values\n",
    "# Train a Gradient Boosting model\n",
    "model = GradientBoostingClassifier(n_estimators=100, random_state=42)\n",
    "model.fit(X_train, y_train)\n",
    "\n",
    "# Initialize SHAP\n",
    "explainer = shap.TreeExplainer(model)\n",
    "shap_values = explainer.shap_values(X_train)\n",
    "\n",
    "# Plot SHAP summary plot\n",
    "shap.summary_plot(shap_values, X_train, plot_type=\"bar\")\n",
    "\n",
    "# Optionally, detailed SHAP summary plot\n",
    "shap.summary_plot(shap_values, X_train)\n"
   ]
  },
  {
   "cell_type": "code",
   "execution_count": 112,
   "id": "7d3aeb54-f1db-4afd-9a80-d74df57e1836",
   "metadata": {},
   "outputs": [
    {
     "data": {
      "image/png": "[encoded data removed]",
      "text/plain": [
       "<Figure size 1000x800 with 1 Axes>"
      ]
     },
     "metadata": {},
     "output_type": "display_data"
    }
   ],
   "source": [
    "from sklearn.inspection import permutation_importance\n",
    "\n",
    "# Train a model (e.g., RandomForestClassifier)\n",
    "model = RandomForestClassifier(n_estimators=100, random_state=42)\n",
    "model.fit(X_train, y_train)\n",
    "\n",
    "# Calculate permutation feature importances\n",
    "perm_importance = permutation_importance(model, X_test, y_test, n_repeats=10, random_state=42)\n",
    "\n",
    "# Extracting feature importances\n",
    "perm_importance_df = pd.DataFrame({'Feature': X_train.columns, 'Importance': perm_importance.importances_mean})\n",
    "perm_importance_df = perm_importance_df.sort_values(by='Importance', ascending=False)\n",
    "\n",
    "# Plotting permutation feature importances\n",
    "plt.figure(figsize=(10, 8))\n",
    "plt.barh(perm_importance_df['Feature'], perm_importance_df['Importance'])\n",
    "plt.xlabel('Importance (Mean Decrease in Accuracy)')\n",
    "plt.ylabel('Feature')\n",
    "plt.title('Permutation Feature Importances')\n",
    "plt.gca().invert_yaxis()\n",
    "plt.show()\n"
   ]
  },
  {
   "cell_type": "code",
   "execution_count": 42,
   "id": "411c628e-bd86-4f2b-8f10-04626cfa2033",
   "metadata": {},
   "outputs": [],
   "source": [
    "# X = new_train_data.drop(columns=['match id','match_dt','venue','city','series_name'])\n",
    "# X['target'] = (X['winner_id'] == X['team1_id']).astype(int)\n",
    "# X['toss_winner_id'] = (X['toss_winner_id'].astype(int)==X['team1_id']).astype(int)\n",
    "# Y = X['target']\n",
    "# X = X.drop(columns=['winner_id', 'target'])"
   ]
  },
  {
   "cell_type": "code",
   "execution_count": 43,
   "id": "39d71533-0346-4734-97f7-2a3a4083fa3e",
   "metadata": {},
   "outputs": [],
   "source": [
    "# print(X.head(3))\n",
    "# print(Y.head(3))"
   ]
  },
  {
   "cell_type": "markdown",
   "id": "59367d9c-cb74-4a9e-ab11-7b8f7d4f4ff6",
   "metadata": {},
   "source": [
    "<!-- ### all_ids = pd.concat([X['team1_id'],X['team2_id']]).unique()\n",
    "# le = LabelEncoder()\n",
    "\n",
    "# le.fit(all_ids)\n",
    "\n",
    "# X['team1_id'] = le.transform(X['team1_id'])\n",
    "# X['team2_id'] = le.transform(X['team2_id'])\n",
    "# Y = le.transform(Y) -->\n",
    "\n",
    "print(X.head(4))\n",
    "print(Y[:4])"
   ]
  },
  {
   "cell_type": "code",
   "execution_count": 94,
   "id": "b8581c8e-7c27-4d88-9673-05d1ad61b9fd",
   "metadata": {},
   "outputs": [],
   "source": []
  },
  {
   "cell_type": "code",
   "execution_count": 40,
   "id": "2fac5c13-e28a-42fa-8203-cf68a36b2026",
   "metadata": {},
   "outputs": [
    {
     "name": "stdout",
     "output_type": "stream",
     "text": [
      "Accuracy with top Index(['team2_wins_by_lighting', 'team1_win_on_venue', 'team1_runs_top6',\n",
      "       'team_winp_last5', 'team1_wins_by_team', 'team2_win_on_ground',\n",
      "       'team1_total_top6_leastfours', 'team2_top6_strike_rates',\n",
      "       'team2_top6_economy_sum', 'team2_wins_by_series', 'team1_win_on_ground',\n",
      "       'team2_wins_by_team', 'team1_total_top6_leastSixes',\n",
      "       'team2_top6_maidens', 'team2_runs_top6', 'ground_avg_runs_last15',\n",
      "       'team1_top6_maidens', 'team2_top6_bowling_avg',\n",
      "       'team1_top6_strike_rates', 'team1_wins_by_toss_decision',\n",
      "       'team2_top6_highest_runs', 'team1_wins_by_lighting',\n",
      "       'team1only_avg_runs_last15'],\n",
      "      dtype='object') features: 0.5684210526315789\n",
      " No. of features:1 features: 0.5473684210526316\n"
     ]
    }
   ],
   "source": [
    "from xgboost import XGBClassifier\n",
    "from sklearn.model_selection import train_test_split\n",
    "from sklearn.feature_selection import SelectFromModel\n",
    "import numpy as np\n",
    "\n",
    "# Assuming X and y are your feature matrix and target variable\n",
    "# Split data into training and testing sets\n",
    "# X_train, X_test, y_train, y_test = train_test_split(X, Y, test_size=0.2, random_state=42)\n",
    "\n",
    "\n",
    "# Initialize XGBoost classifier\n",
    "xgb_model = XGBClassifier(objective='binary:logistic', use_label_encoder=False, eval_metric='logloss')\n",
    "\n",
    "# Fit the model\n",
    "xgb_model.fit(X_train, y_train)\n",
    "\n",
    "# Get feature importance scores\n",
    "feature_importance = xgb_model.feature_importances_\n",
    "\n",
    "# Sort features based on importance scores\n",
    "sorted_idx = np.argsort(feature_importance)[::-1]\n",
    "\n",
    "# Print feature importance scores and corresponding feature names\n",
    "# for idx in sorted_idx:\n",
    "#     print(f\"Feature: {X.columns[idx]}, Importance: {feature_importance[idx]}\")\n",
    "\n",
    "# Select top features based on importance scores\n",
    "num_top_features = 23  # Example: Select top 10 features\n",
    "top_features_idx = sorted_idx[:num_top_features]\n",
    "top_features = X.columns[top_features_idx]\n",
    "\n",
    "# Select only the top features for training and testing sets\n",
    "X_train_top = X_train[top_features]\n",
    "X_test_top = X_test[top_features]\n",
    "\n",
    "# Fit the model with top features\n",
    "xgb_model_top = XGBClassifier(objective='binary:logistic', use_label_encoder=False, eval_metric='logloss')\n",
    "xgb_model_top.fit(X_train_top, y_train)\n",
    "\n",
    "# Evaluate the model on the test set\n",
    "accuracy = xgb_model_top.score(X_test_top, y_test)\n",
    "print(f\"Accuracy with top {top_features} features: {accuracy}\")\n",
    "for i in range(1,2):\n",
    "    # Select top features based on importance scores\n",
    "    num_top_features = i  # Example: Select top 10 features\n",
    "    top_features_idx = sorted_idx[:num_top_features]\n",
    "    top_features = X.columns[top_features_idx]\n",
    "    \n",
    "    # Select only the top features for training and testing sets\n",
    "    X_train_top = X_train[top_features]\n",
    "    X_test_top = X_test[top_features]\n",
    "    \n",
    "    # Fit the model with top features\n",
    "    xgb_model_top = XGBClassifier(objective='binary:logistic', use_label_encoder=False, eval_metric='logloss')\n",
    "    xgb_model_top.fit(X_train_top, y_train)\n",
    "    \n",
    "    # Evaluate the model on the test set\n",
    "    accuracy = xgb_model_top.score(X_test_top, y_test)\n",
    "    print(f\" No. of features:{i} features: {accuracy}\")\n",
    "    "
   ]
  },
  {
   "cell_type": "code",
   "execution_count": 46,
   "id": "8a484f00-f76e-4bc6-a0a0-7d7f756db6de",
   "metadata": {},
   "outputs": [],
   "source": [
    "# X_train_fx = X_train[top_features]\n",
    "# X_test_fx = X_test[top_features]"
   ]
  },
  {
   "cell_type": "code",
   "execution_count": 150,
   "id": "355a5da8-989f-48d5-b01d-6b35ff2c8993",
   "metadata": {},
   "outputs": [],
   "source": [
    "# print(y_train)\n",
    "# !pip install optuna\n"
   ]
  },
  {
   "cell_type": "code",
   "execution_count": 147,
   "id": "74d735d0-bd96-46ca-8df6-4b686501420d",
   "metadata": {},
   "outputs": [],
   "source": [
    "# from sklearn.model_selection import train_test_split\n",
    "# from xgboost import XGBClassifier\n",
    "# from sklearn.metrics import accuracy_score\n",
    "\n",
    "# data_length2 = len(X_train)\n",
    "# split_index2 = int(data_length2 * 0.8)  # 80% for training, 20% for testing\n",
    "\n",
    "# X_Train = X_train[:split_index2]\n",
    "# y_Train = y_train[:split_index2]\n",
    "\n",
    "# X_val = X_train[split_index2:]\n",
    "# y_val = y_train[split_index2:]\n",
    "\n",
    "# # Further split the training data to get the validation set (last 20% of the training data)\n",
    "# # Define the XGBoost model with some initial parameters\n",
    "# xgb_model = XGBClassifier(\n",
    "#     objective='binary:logistic', \n",
    "#     use_label_encoder=False, \n",
    "#     eval_metric='logloss',\n",
    "#     max_depth=5,          # You can adjust these parameters\n",
    "#     learning_rate=0.001,   # based on your requirement\n",
    "#     n_estimators=50,    # Large number to allow early stopping to work\n",
    "#     gamma=0.001          # Adjust gamma if necessary\n",
    "# )\n",
    "\n",
    "# # Train the model with early stopping\n",
    "# xgb_model.fit(\n",
    "#     X_Train, y_Train, \n",
    "#     eval_set=[(X_val, y_val)], \n",
    "#     early_stopping_rounds=50,    # Stop training if no improvement after 50 rounds\n",
    "#     verbose=True                 # Set to True to see the log during training\n",
    "# )\n",
    "\n",
    "# # Evaluate the model on the test set\n",
    "# y_pred = xgb_model.predict(X_test)\n",
    "# accuracy = accuracy_score(y_test, y_pred)\n",
    "# print(f'Accuracy on Test Set: {accuracy}')\n"
   ]
  },
  {
   "cell_type": "code",
   "execution_count": 48,
   "id": "026c1c6b-5e4e-40ba-8f3b-f3173386cba3",
   "metadata": {},
   "outputs": [
    {
     "name": "stdout",
     "output_type": "stream",
     "text": [
      "Columns containing infinity values:\n",
      "team1_batting_avg_top6    team1_batting_avg_top6\n",
      "team2_batting_avg_top6    team2_batting_avg_top6\n",
      "dtype: object\n"
     ]
    }
   ],
   "source": [
    "infinity_columns = new_train_data.columns.to_series()[np.isinf(new_train_data).any()]\n",
    "\n",
    "# Display the columns with infinity values\n",
    "print(\"Columns containing infinity values:\")\n",
    "print(infinity_columns)"
   ]
  },
  {
   "cell_type": "code",
   "execution_count": 51,
   "id": "dfc974eb-0917-4549-9778-389b73c7431f",
   "metadata": {},
   "outputs": [
    {
     "name": "stdout",
     "output_type": "stream",
     "text": [
      "team_count_50runs_last15        0\n",
      "team_winp_last5                 0\n",
      "team1only_avg_runs_last15       0\n",
      "team1_winp_team2_last15         0\n",
      "ground_avg_runs_last15          0\n",
      "team1_wins_by_team              0\n",
      "team2_wins_by_team              0\n",
      "team1_win_on_ground             0\n",
      "team2_win_on_ground             0\n",
      "team1_win_on_city               0\n",
      "team2_win_on_city               0\n",
      "team1_win_on_venue              0\n",
      "team2_win_on_venue              0\n",
      "team1_wins_by_toss_decision     0\n",
      "team2_wins_by_toss_decision     0\n",
      "team1_wins_by_lighting          0\n",
      "team2_wins_by_lighting          0\n",
      "team1_wins_by_series            0\n",
      "team2_wins_by_series            0\n",
      "team1_wins_by_season            0\n",
      "team2_wins_by_season            0\n",
      "team1_top6_economy_sum          0\n",
      "team2_top6_economy_sum          0\n",
      "team1_top6_wicket_avg_sum       0\n",
      "team2_top6_wicket_avg_sum       0\n",
      "team1_top6_bowling_avg          0\n",
      "team2_top6_bowling_avg          0\n",
      "team1_top6_maidens              0\n",
      "team2_top6_maidens              0\n",
      "team1_total_top6_leastfours     0\n",
      "team2_total_top6_leastfours     0\n",
      "team1_total_top6_leastSixes     0\n",
      "team2_total_top6_leastSixes     0\n",
      "team1_total_bowler_captains     0\n",
      "team2_total_bowler_captains     0\n",
      "team1_total_top_6_by_inning     0\n",
      "team2_total_top_6_by_inning     0\n",
      "team1_total_dot_avg_top6        0\n",
      "team2_total_dot_avg_top6        0\n",
      "team1_bowler_runs              12\n",
      "team2_bowler_runs              11\n",
      "team1_runs_top6                 0\n",
      "team2_runs_top6                 0\n",
      "team1_batting_avg_top6          0\n",
      "team2_batting_avg_top6          0\n",
      "target                          0\n",
      "dtype: int64\n"
     ]
    }
   ],
   "source": [
    "# !pip install catboost\n",
    "print(new_train_data.isnull().sum())"
   ]
  },
  {
   "cell_type": "code",
   "execution_count": 37,
   "id": "4eef93af-4194-4e6d-b002-726a05ea1781",
   "metadata": {},
   "outputs": [
    {
     "name": "stdout",
     "output_type": "stream",
     "text": [
      "[LightGBM] [Warning] min_data_in_leaf is set=1, min_child_samples=2 will be ignored. Current value: min_data_in_leaf=1\n",
      "[LightGBM] [Warning] min_data_in_leaf is set=1, min_child_samples=2 will be ignored. Current value: min_data_in_leaf=1\n",
      "[LightGBM] [Info] Number of positive: 378, number of negative: 380\n",
      "[LightGBM] [Info] Auto-choosing col-wise multi-threading, the overhead of testing was 0.001276 seconds.\n",
      "You can set `force_col_wise=true` to remove the overhead.\n",
      "[LightGBM] [Info] Total Bins 5598\n",
      "[LightGBM] [Info] Number of data points in the train set: 758, number of used features: 45\n",
      "[LightGBM] [Info] [binary:BoostFromScore]: pavg=0.498681 -> initscore=-0.005277\n",
      "[LightGBM] [Info] Start training from score -0.005277\n",
      "[LightGBM] [Warning] No further splits with positive gain, best gain: -inf\n",
      "[LightGBM] [Warning] No further splits with positive gain, best gain: -inf\n",
      "[LightGBM] [Warning] No further splits with positive gain, best gain: -inf\n",
      "[LightGBM] [Warning] No further splits with positive gain, best gain: -inf\n",
      "[LightGBM] [Warning] No further splits with positive gain, best gain: -inf\n",
      "[LightGBM] [Warning] No further splits with positive gain, best gain: -inf\n",
      "[LightGBM] [Warning] No further splits with positive gain, best gain: -inf\n",
      "[LightGBM] [Warning] No further splits with positive gain, best gain: -inf\n",
      "[LightGBM] [Warning] No further splits with positive gain, best gain: -inf\n",
      "[LightGBM] [Warning] No further splits with positive gain, best gain: -inf\n",
      "[LightGBM] [Warning] No further splits with positive gain, best gain: -inf\n",
      "[LightGBM] [Warning] No further splits with positive gain, best gain: -inf\n",
      "[LightGBM] [Warning] No further splits with positive gain, best gain: -inf\n",
      "[LightGBM] [Warning] No further splits with positive gain, best gain: -inf\n",
      "[LightGBM] [Warning] No further splits with positive gain, best gain: -inf\n",
      "[LightGBM] [Warning] No further splits with positive gain, best gain: -inf\n",
      "[LightGBM] [Warning] No further splits with positive gain, best gain: -inf\n",
      "[LightGBM] [Warning] No further splits with positive gain, best gain: -inf\n",
      "[LightGBM] [Warning] No further splits with positive gain, best gain: -inf\n",
      "[LightGBM] [Warning] No further splits with positive gain, best gain: -inf\n",
      "[LightGBM] [Warning] No further splits with positive gain, best gain: -inf\n",
      "[LightGBM] [Warning] No further splits with positive gain, best gain: -inf\n",
      "[LightGBM] [Warning] No further splits with positive gain, best gain: -inf\n",
      "[LightGBM] [Warning] No further splits with positive gain, best gain: -inf\n",
      "[LightGBM] [Warning] No further splits with positive gain, best gain: -inf\n",
      "[LightGBM] [Warning] No further splits with positive gain, best gain: -inf\n",
      "[LightGBM] [Warning] No further splits with positive gain, best gain: -inf\n",
      "[LightGBM] [Warning] No further splits with positive gain, best gain: -inf\n",
      "[LightGBM] [Warning] No further splits with positive gain, best gain: -inf\n",
      "[LightGBM] [Warning] No further splits with positive gain, best gain: -inf\n",
      "[LightGBM] [Warning] No further splits with positive gain, best gain: -inf\n",
      "[LightGBM] [Warning] No further splits with positive gain, best gain: -inf\n",
      "[LightGBM] [Warning] No further splits with positive gain, best gain: -inf\n",
      "[LightGBM] [Warning] No further splits with positive gain, best gain: -inf\n",
      "[LightGBM] [Warning] No further splits with positive gain, best gain: -inf\n",
      "[LightGBM] [Warning] No further splits with positive gain, best gain: -inf\n",
      "[LightGBM] [Warning] No further splits with positive gain, best gain: -inf\n",
      "[LightGBM] [Warning] No further splits with positive gain, best gain: -inf\n",
      "[LightGBM] [Warning] No further splits with positive gain, best gain: -inf\n",
      "[LightGBM] [Warning] No further splits with positive gain, best gain: -inf\n",
      "[LightGBM] [Warning] No further splits with positive gain, best gain: -inf\n",
      "[LightGBM] [Warning] No further splits with positive gain, best gain: -inf\n",
      "[LightGBM] [Warning] No further splits with positive gain, best gain: -inf\n",
      "[LightGBM] [Warning] No further splits with positive gain, best gain: -inf\n",
      "[LightGBM] [Warning] No further splits with positive gain, best gain: -inf\n",
      "[LightGBM] [Warning] No further splits with positive gain, best gain: -inf\n",
      "[LightGBM] [Warning] No further splits with positive gain, best gain: -inf\n",
      "[LightGBM] [Warning] No further splits with positive gain, best gain: -inf\n",
      "[LightGBM] [Warning] No further splits with positive gain, best gain: -inf\n",
      "[LightGBM] [Warning] No further splits with positive gain, best gain: -inf\n",
      "[LightGBM] [Warning] No further splits with positive gain, best gain: -inf\n",
      "[LightGBM] [Warning] No further splits with positive gain, best gain: -inf\n",
      "[LightGBM] [Warning] No further splits with positive gain, best gain: -inf\n",
      "[LightGBM] [Warning] No further splits with positive gain, best gain: -inf\n",
      "[LightGBM] [Warning] No further splits with positive gain, best gain: -inf\n",
      "[LightGBM] [Warning] No further splits with positive gain, best gain: -inf\n",
      "[LightGBM] [Warning] No further splits with positive gain, best gain: -inf\n",
      "[LightGBM] [Warning] No further splits with positive gain, best gain: -inf\n",
      "[LightGBM] [Warning] No further splits with positive gain, best gain: -inf\n",
      "[LightGBM] [Warning] No further splits with positive gain, best gain: -inf\n",
      "[LightGBM] [Warning] No further splits with positive gain, best gain: -inf\n",
      "[LightGBM] [Warning] No further splits with positive gain, best gain: -inf\n",
      "[LightGBM] [Warning] No further splits with positive gain, best gain: -inf\n",
      "[LightGBM] [Warning] No further splits with positive gain, best gain: -inf\n",
      "[LightGBM] [Warning] No further splits with positive gain, best gain: -inf\n",
      "[LightGBM] [Warning] No further splits with positive gain, best gain: -inf\n",
      "[LightGBM] [Warning] No further splits with positive gain, best gain: -inf\n",
      "[LightGBM] [Warning] No further splits with positive gain, best gain: -inf\n",
      "[LightGBM] [Warning] No further splits with positive gain, best gain: -inf\n",
      "[LightGBM] [Warning] No further splits with positive gain, best gain: -inf\n",
      "[LightGBM] [Warning] No further splits with positive gain, best gain: -inf\n",
      "[LightGBM] [Warning] No further splits with positive gain, best gain: -inf\n",
      "[LightGBM] [Warning] No further splits with positive gain, best gain: -inf\n",
      "[LightGBM] [Warning] No further splits with positive gain, best gain: -inf\n",
      "[LightGBM] [Warning] No further splits with positive gain, best gain: -inf\n",
      "[LightGBM] [Warning] No further splits with positive gain, best gain: -inf\n",
      "[LightGBM] [Warning] No further splits with positive gain, best gain: -inf\n",
      "[LightGBM] [Warning] No further splits with positive gain, best gain: -inf\n",
      "[LightGBM] [Warning] No further splits with positive gain, best gain: -inf\n",
      "[LightGBM] [Warning] No further splits with positive gain, best gain: -inf\n",
      "[LightGBM] [Warning] No further splits with positive gain, best gain: -inf\n",
      "[LightGBM] [Warning] No further splits with positive gain, best gain: -inf\n",
      "[LightGBM] [Warning] No further splits with positive gain, best gain: -inf\n",
      "[LightGBM] [Warning] No further splits with positive gain, best gain: -inf\n",
      "[LightGBM] [Warning] No further splits with positive gain, best gain: -inf\n",
      "[LightGBM] [Warning] No further splits with positive gain, best gain: -inf\n",
      "[LightGBM] [Warning] No further splits with positive gain, best gain: -inf\n",
      "[LightGBM] [Warning] No further splits with positive gain, best gain: -inf\n",
      "[LightGBM] [Warning] No further splits with positive gain, best gain: -inf\n",
      "[LightGBM] [Warning] No further splits with positive gain, best gain: -inf\n",
      "[LightGBM] [Warning] min_data_in_leaf is set=1, min_child_samples=2 will be ignored. Current value: min_data_in_leaf=1\n",
      "[LightGBM] [Warning] min_data_in_leaf is set=1, min_child_samples=2 will be ignored. Current value: min_data_in_leaf=1\n",
      "Accuracy on Train Set: 0.9353562005277045\n",
      "Accuracy on Test Set: 0.5894736842105263\n"
     ]
    }
   ],
   "source": [
    "import lightgbm as lgb\n",
    "from sklearn.model_selection import train_test_split\n",
    "from sklearn.metrics import accuracy_score\n",
    "\n",
    "# Define parameters\n",
    "params = {\n",
    "    'n_estimators': 90,           # Number of boosting stages to be run\n",
    "    'learning_rate': 0.1,         # Learning rate shrinks the contribution of each tree\n",
    "    'max_depth': 3,               # Maximum depth of the individual estimators\n",
    "    'min_child_samples': 2,       # Minimum number of samples required to split an internal node\n",
    "    'min_data_in_leaf': 1,        # Minimum number of samples required to be at a leaf node\n",
    "    'random_state': 50,           # Seed used by the random number generator\n",
    "    'objective': 'binary',        # Objective function\n",
    "    'metric': 'binary_error'      # Metric for evaluation\n",
    "}\n",
    "\n",
    "# Initialize classifier with parameters\n",
    "lgb_model = lgb.LGBMClassifier(**params)\n",
    "\n",
    "# Fit the model\n",
    "lgb_model.fit(X_train, y_train)\n",
    "\n",
    "# Make predictions\n",
    "y_pred = lgb_model.predict(X_test)\n",
    "\n",
    "# Evaluate the accuracy on the train set\n",
    "y_pred_train = lgb_model.predict(X_train)\n",
    "accuracy_train = accuracy_score(y_train, y_pred_train)\n",
    "print(f'Accuracy on Train Set: {accuracy_train}')\n",
    "\n",
    "# Evaluate the accuracy on the test set\n",
    "accuracy_test = accuracy_score(y_test, y_pred)\n",
    "print(f'Accuracy on Test Set: {accuracy_test}')\n"
   ]
  },
  {
   "cell_type": "code",
   "execution_count": 59,
   "id": "01be5819-da11-4247-af4b-d903656b7a33",
   "metadata": {},
   "outputs": [
    {
     "name": "stdout",
     "output_type": "stream",
     "text": [
      "Accuracy on Test Set: 0.5894736842105263\n"
     ]
    }
   ],
   "source": [
    "from sklearn.model_selection import train_test_split\n",
    "from sklearn.model_selection import GridSearchCV\n",
    "from xgboost import XGBClassifier\n",
    "\n",
    "# Split the data into training and test sets\n",
    "# X_train, X_test, y_train, y_test = train_test_split(X, Y, test_size=0.2, random_state=42)\n",
    "\n",
    "# param_grid = {\n",
    "#     'max_depth': [3, 5, 7],\n",
    "#     'learning_rate': [0.1, 0.01, 0.001],\n",
    "#     'n_estimators': [100, 200, 300, 400],\n",
    "#     'gamma': [0, 0.1, 0.2],\n",
    "#     # Add more hyperparameters as needed\n",
    "# }\n",
    "xgb_model = XGBClassifier(objective='binary:logistic', use_label_encoder=False, eval_metric='logloss')\n",
    "xgb_model.fit(X_train, y_train)\n",
    "\n",
    "y_pred = xgb_model.predict(X_test)\n",
    "accuracy = accuracy_score(y_test, y_pred)\n",
    "print(f'Accuracy on Test Set: {accuracy}')\n",
    "\n",
    "# Train the XGBoost model\n",
    "# xgb_model = XGBClassifier(objective='binary:logistic', use_label_encoder=False, eval_metric='logloss')\n",
    "\n",
    "# grid_search = GridSearchCV(estimator=xgb_model, param_grid=param_grid, cv=3)\n",
    "# # xgb_model.fit(X_train, y_train)\n",
    "\n",
    "# grid_search.fit(X_train, y_train)\n",
    "\n",
    "# # Get the best hyperparameters and best estimator\n",
    "# best_params = grid_search.best_params_\n",
    "# best_estimator = grid_search.best_estimator_\n",
    "\n",
    "# # Evaluate the best estimator on the test set\n",
    "# y_pred = best_estimator.predict(X_test)\n",
    "# accuracy = accuracy_score(y_test, y_pred)\n",
    "# print(f'Best Parameters: {best_params}')\n",
    "# print(f'Accuracy on Test Set: {accuracy}')"
   ]
  },
  {
   "cell_type": "code",
   "execution_count": 152,
   "id": "ce823442-1214-4e00-852b-a83af186a152",
   "metadata": {
    "scrolled": true
   },
   "outputs": [
    {
     "name": "stdout",
     "output_type": "stream",
     "text": [
      "Accuracy: 0.5842105263157895\n",
      "Confusion Matrix:\n",
      "[[58 33]\n",
      " [46 53]]\n",
      "Classification Report:\n",
      "              precision    recall  f1-score   support\n",
      "\n",
      "           0       0.56      0.64      0.59        91\n",
      "           1       0.62      0.54      0.57        99\n",
      "\n",
      "    accuracy                           0.58       190\n",
      "   macro avg       0.59      0.59      0.58       190\n",
      "weighted avg       0.59      0.58      0.58       190\n",
      "\n"
     ]
    }
   ],
   "source": [
    "from sklearn.metrics import accuracy_score, confusion_matrix, classification_report\n",
    "# y_pred = xgb_model.predict(X_test)\n",
    "y_pred = best_estimator.predict(X_test)\n",
    "accuracy = accuracy_score(y_test, y_pred)\n",
    "print(f'Accuracy: {accuracy}')\n",
    "print('Confusion Matrix:')\n",
    "print(confusion_matrix(y_test, y_pred))\n",
    "print('Classification Report:')\n",
    "print(classification_report(y_test, y_pred))"
   ]
  }
 ],
 "metadata": {
  "kernelspec": {
   "display_name": "Python 3 (ipykernel)",
   "language": "python",
   "name": "python3"
  },
  "language_info": {
   "codemirror_mode": {
    "name": "ipython",
    "version": 3
   },
   "file_extension": ".py",
   "mimetype": "text/x-python",
   "name": "python",
   "nbconvert_exporter": "python",
   "pygments_lexer": "ipython3",
   "version": "3.12.3"
  }
 },
 "nbformat": 4,
 "nbformat_minor": 5
}
